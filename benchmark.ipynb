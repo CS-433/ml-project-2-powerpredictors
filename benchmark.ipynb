{
 "cells": [
  {
   "cell_type": "code",
   "execution_count": 1,
   "id": "b4161976-bb37-45d6-823b-0f6bbf71d3fd",
   "metadata": {},
   "outputs": [],
   "source": [
    "import pandas as pd\n",
    "import datetime \n",
    "import numpy as np\n",
    "import seaborn as sns\n",
    "import matplotlib.pyplot as plt\n",
    "import os \n",
    "import itertools\n",
    "from datetime import datetime"
   ]
  },
  {
   "cell_type": "code",
   "execution_count": 2,
   "id": "028d7f21-a85d-4d8c-8f17-f44f6bdf4486",
   "metadata": {},
   "outputs": [],
   "source": [
    "from plot_functions import plot_results\n",
    "from plot_functions import plot_results_by_month\n",
    "from plot_functions import plot_curves_with_reference_by_month\n",
    "from plot_functions import plot_curves_with_reference"
   ]
  },
  {
   "cell_type": "code",
   "execution_count": 3,
   "id": "4b48721c-34ce-45da-ba49-43e80d062b9b",
   "metadata": {},
   "outputs": [],
   "source": [
    "# Save current directory\n",
    "current_directory = os.getcwd()\n",
    "\n",
    "# Set print options to suppress scientific notation and show 3 decimal places\n",
    "np.set_printoptions(suppress=True, precision=5)\n",
    "pd.options.display.float_format = '{:.5f}'.format\n",
    "\n",
    "# Suppress all warnings globally\n",
    "import warnings\n",
    "warnings.filterwarnings(\"ignore\")"
   ]
  },
  {
   "cell_type": "code",
   "execution_count": 4,
   "id": "23626ac2-0f5b-44eb-8040-13a6cc753672",
   "metadata": {},
   "outputs": [],
   "source": [
    "file_path = os.path.join(current_directory, 'data_augmented/X_small.csv')\n",
    "X_small = pd.read_csv(file_path, index_col = 0)\n",
    "\n",
    "file_path = os.path.join(current_directory, 'data_augmented/timestamps.csv')\n",
    "timestamps = pd.read_csv(file_path, index_col = 0)\n",
    "\n",
    "file_path = os.path.join(current_directory, 'data_augmented/means_df.csv')\n",
    "means = pd.read_csv(file_path, index_col = 0)\n",
    "\n",
    "file_path = os.path.join(current_directory, 'data_augmented/stds_df.csv')\n",
    "stds = pd.read_csv(file_path, index_col = 0)"
   ]
  },
  {
   "cell_type": "code",
   "execution_count": 5,
   "id": "9bd0b2ea-13cc-4a2d-9328-020ce23f64e1",
   "metadata": {},
   "outputs": [
    {
     "data": {
      "text/plain": [
       "array(['power_consumption', 'temp', 'is_weekend', 'is_spring',\n",
       "       'is_summer', 'is_autumn', 'is_winter', 'is_holiday', 'is_daylight',\n",
       "       'hour_1', 'hour_2', 'hour_3', 'hour_4', 'hour_5', 'hour_6',\n",
       "       'hour_7', 'hour_8', 'hour_9', 'hour_10', 'hour_11', 'hour_12',\n",
       "       'hour_13', 'hour_14', 'hour_15', 'hour_16', 'hour_17', 'hour_18',\n",
       "       'hour_19', 'hour_20', 'hour_21', 'hour_22', 'hour_23'],\n",
       "      dtype=object)"
      ]
     },
     "execution_count": 5,
     "metadata": {},
     "output_type": "execute_result"
    }
   ],
   "source": [
    "X_small.columns.values"
   ]
  },
  {
   "cell_type": "code",
   "execution_count": 6,
   "id": "124de356-6081-4ad8-b3d4-6285bbf3c8f7",
   "metadata": {},
   "outputs": [],
   "source": [
    "# metrics \n",
    "\n",
    "# MSE\n",
    "from sklearn.metrics import mean_squared_error\n",
    "\n",
    "# RMSE\n",
    "def root_mean_squared_error(y_true, y_pred):\n",
    "    return np.sqrt(mean_squared_error(y_true, y_pred))\n",
    "    \n",
    "# MAE\n",
    "from sklearn.metrics import mean_absolute_error\n",
    "\n",
    "# MAPE\n",
    "def mean_absolute_percentage_error(y_true, y_pred):\n",
    "    y_true, y_pred = np.array(y_true), np.array(y_pred)\n",
    "    return np.mean(np.abs((y_true - y_pred) / y_true)) # * 100\n",
    "\n",
    "# ME\n",
    "from sklearn.metrics import max_error"
   ]
  },
  {
   "cell_type": "markdown",
   "id": "4c3af11c-ad66-4bb8-9104-a16316e125c1",
   "metadata": {},
   "source": [
    "## SARIMA"
   ]
  },
  {
   "cell_type": "code",
   "execution_count": 8,
   "id": "8860c0f7-e922-4f32-87fd-21479f08aec7",
   "metadata": {},
   "outputs": [],
   "source": [
    "# train data\n",
    "file_path = os.path.join(current_directory, 'data_augmented/train.csv')\n",
    "train = pd.read_csv(file_path)\n",
    "train.set_index(\"timestamp\", inplace=True)\n",
    "train.index = pd.to_datetime(train.index) # Set frequency explicitly\n",
    "train = train.asfreq('H')  # 'H' for hourly frequency\n",
    "\n",
    "# test data\n",
    "file_path = os.path.join(current_directory, 'data_augmented/test.csv')\n",
    "test = pd.read_csv(file_path)\n",
    "test.set_index(\"timestamp\", inplace=True)\n",
    "test.index = pd.to_datetime(test.index) # Set frequency explicitly\n",
    "test = test.asfreq('H')  # 'H' for hourly frequency\n",
    "\n",
    "timestamps_train = timestamps['timestamp'].iloc[:len(train)]\n",
    "timestamps_test = timestamps['timestamp'].iloc[len(train):len(train)+len(test)]"
   ]
  },
  {
   "cell_type": "code",
   "execution_count": 9,
   "id": "285d42ee-ab62-4e18-bf69-488b4339e6be",
   "metadata": {},
   "outputs": [],
   "source": [
    "target_col = ['power_consumption']\n",
    "exog_cols = ['temp'] # [] # [col for col in train.columns if col not in target_col]"
   ]
  },
  {
   "cell_type": "code",
   "execution_count": 10,
   "id": "9468584b-c1c1-4c0f-83f0-68a31c5b65cf",
   "metadata": {},
   "outputs": [],
   "source": [
    "from statsmodels.tsa.stattools import adfuller\n",
    "\n",
    "check_stationarity_flag = 0\n",
    "if check_stationarity_flag == 1:\n",
    "    def check_stationarity(series, verbose=True):\n",
    "        result = adfuller(series.dropna())  # Drop NaNs before the test\n",
    "        if verbose:\n",
    "            print(f\"ADF Statistic: {result[0]}\")\n",
    "            print(f\"p-value: {result[1]}\")\n",
    "        return result[1] < 0.05  # Returns True if stationary\n",
    "    \n",
    "    for col in exog_cols:\n",
    "        print(col+' variable:\\n')\n",
    "        is_stationary = check_stationarity(train[col])\n",
    "        if not is_stationary:\n",
    "            print('-> non-stationary\\n')\n",
    "            train[col] = train[col].diff().dropna()\n",
    "\n",
    "            # Handle `inf` or `-inf` values after differencing\n",
    "            train[col].replace([np.inf, -np.inf], np.nan, inplace=True)\n",
    "            \n",
    "            # Fill or drop missing values caused by differencing\n",
    "            train[col].fillna(method='bfill', inplace=True)  # Use forward fill or backfill\n",
    "            train[col].fillna(method='ffill', inplace=True)  # Fill any remaining NaNs\n",
    "        else:\n",
    "            print('-> stationary\\n')"
   ]
  },
  {
   "cell_type": "code",
   "execution_count": 11,
   "id": "3a736d9d-2a3e-46dd-bdee-7ce7ac072016",
   "metadata": {},
   "outputs": [],
   "source": [
    "train_data = train[target_col].values.flatten()\n",
    "train_exog = train[exog_cols].values.flatten()\n",
    "test_data = test[target_col].values.flatten()\n",
    "test_exog = test[exog_cols].values.flatten()"
   ]
  },
  {
   "cell_type": "code",
   "execution_count": 12,
   "id": "0fa6b1c1-f2a8-4235-8d30-93e04fc17b41",
   "metadata": {},
   "outputs": [],
   "source": [
    "from pmdarima import auto_arima\n",
    "\n",
    "# Step 2: Parameter Selection\n",
    "parameters_selection = 0\n",
    "\n",
    "if parameters_selection == 0:\n",
    "    order = (1,1,0)\n",
    "    seasonal_order = (1,0,0,24)\n",
    "elif parameters_selection == 1:\n",
    "    # Auto-ARIMA for Parameter Selection\n",
    "    def determine_best_parameters(train, exog_train, seasonal_period = 24):\n",
    "        \"\"\"\n",
    "        Automatically determine the best SARIMAX parameters using auto_arima.\n",
    "        \"\"\"\n",
    "        \n",
    "        train = train.astype('float32') \n",
    "        \n",
    "        # Handle case where no exogenous variables are provided\n",
    "        if exog_train.size == 0:  # Check if the exog_train array is empty\n",
    "            exog_train = None  # Set exog_train to None if empty\n",
    "        else:\n",
    "            exog_train = exog_train.astype('float32')\n",
    "\n",
    "        seasonal_period = 24\n",
    "        model = auto_arima(\n",
    "            train,  # Target variable\n",
    "            exogenous=exog_train,  # Exogenous variables\n",
    "            seasonal=True,  # Enable seasonal ARIMA\n",
    "            m = seasonal_period,  # Number of time steps in a seasonal period\n",
    "            start_p=0, max_p=1,  # Restrict AR terms\n",
    "            d = None,  # Automatically determine differencing order\n",
    "            start_q=0, max_q=1, # Restrict MA terms\n",
    "            start_P=0, max_P=1, # Restrict seasonal AR terms\n",
    "            D = None,  # Automatically determine seasonal differencing order\n",
    "            start_Q=0, max_Q=1, # Restrict seasonal MA terms\n",
    "            stepwise=True,  # Use stepwise search to reduce computational cost\n",
    "            suppress_warnings=True,  # Suppress warnings during execution\n",
    "            max_order=10,  # Limit the sum of p + q + P + Q\n",
    "            trace=True  # Enable tracing to monitor progress\n",
    "        )\n",
    "        print(f\"Best order: {model.order}\")\n",
    "        print(f\"Best seasonal order: {model.seasonal_order}\")\n",
    "        return model.order, model.seasonal_order\n",
    "    \n",
    "    # Determine best parameters\n",
    "    order, seasonal_order = determine_best_parameters(\n",
    "        train_data,\n",
    "        exog_train=train_exog\n",
    "    )"
   ]
  },
  {
   "cell_type": "code",
   "execution_count": 13,
   "id": "3975ddbd-4ba6-447b-b2cc-eb9e95164119",
   "metadata": {},
   "outputs": [],
   "source": [
    "# Step 3: Fit SARIMAX Model\n",
    "from statsmodels.tsa.statespace.sarimax import SARIMAX\n",
    "\n",
    "def train_sarimax(train, exog_train, order, seasonal_order):\n",
    "    \"\"\"\n",
    "    Train a SARIMAX model with specified parameters.\n",
    "    \"\"\"\n",
    "    # Handle case where no exogenous variables are provided\n",
    "    if exog_train.size == 0:  # Check if the exog_train array is empty\n",
    "        exog_train = None  # Set exog_train to None if empty\n",
    " \n",
    "    model = SARIMAX(\n",
    "        train,\n",
    "        exog=exog_train,\n",
    "        order=order,\n",
    "        seasonal_order=seasonal_order,\n",
    "        enforce_stationarity=False,\n",
    "        enforce_invertibility=False\n",
    "    )\n",
    "    fitted_model = model.fit(disp=False)\n",
    "    return fitted_model"
   ]
  },
  {
   "cell_type": "code",
   "execution_count": null,
   "id": "8bd0944a-7b64-428e-bf2e-b2dd367bd56b",
   "metadata": {},
   "outputs": [],
   "source": [
    "iterative_training = 1\n",
    "if iterative_training:\n",
    "    forecast_horizon = 24\n",
    "    # Fit the SARIMA model with exogenous variables on the training set\n",
    "    fitted_model = train_sarimax(\n",
    "                                    train_data,\n",
    "                                    exog_train=train_exog,\n",
    "                                    order=order,\n",
    "                                    seasonal_order=seasonal_order\n",
    "                                    )\n",
    "    \n",
    "    # Rolling forecast for the test set\n",
    "    all_predictions = []\n",
    "    all_actuals = []\n",
    "    \n",
    "    for i in range(0, len(test_data) - forecast_horizon + 1, forecast_horizon):\n",
    "        # Forecast the next 24 hours\n",
    "        forecast_exog = test_exog[i:i + forecast_horizon]\n",
    "        forecast = fitted_model.forecast(steps=forecast_horizon, exog=forecast_exog)\n",
    "        actual = test_data[i:i + forecast_horizon]\n",
    "    \n",
    "        # Store predictions and actual values\n",
    "        all_predictions.extend(forecast)\n",
    "        all_actuals.extend(actual)\n",
    "    \n",
    "        # Update the model with the actuals for the next rolling window\n",
    "        updated_train_data = np.append(train_data, test_data[:i + forecast_horizon])\n",
    "        updated_train_exog = np.append(train_exog, test_exog[:i + forecast_horizon])\n",
    "        fitted_model = train_sarimax(\n",
    "                                    updated_train_data,\n",
    "                                    exog_train=updated_train_exog,\n",
    "                                    order=order,\n",
    "                                    seasonal_order=seasonal_order\n",
    "                                    )\n",
    "    all_predictions = np.array(all_predictions)\n",
    "    all_actuals = np.array(all_actuals)\n",
    "else:\n",
    "    # Train the SARIMAX model with the selected parameters\n",
    "    fitted_model = train_sarimax(\n",
    "        train_data,\n",
    "        exog_train=train_exog,\n",
    "        order=order,\n",
    "        seasonal_order=seasonal_order\n",
    "    )\n",
    "    \n",
    "    forecast = fitted_model.forecast(steps=len(test_data), exog=test_exog)\n",
    "    all_predictions = forecast\n",
    "    all_actuals = test_data    "
   ]
  },
  {
   "cell_type": "code",
   "execution_count": null,
   "id": "c8762c7c-2c3e-42d6-b94d-a5f93406aa03",
   "metadata": {},
   "outputs": [],
   "source": [
    "models = ['SARIMA', 'Persistence forecast']\n",
    "error_dict = {'model': models,\n",
    "              'RMSE': np.zeros(len(models)),\n",
    "              'MAE': np.zeros(len(models)),\n",
    "              'ME': np.zeros(len(models)),\n",
    "              'MAPE': np.zeros(len(models))\n",
    "    }\n",
    "error_df = pd.DataFrame(error_dict).set_index(\"model\")\n",
    "\n",
    "predictions_df = pd.DataFrame(columns = test.index, index = models)"
   ]
  },
  {
   "cell_type": "code",
   "execution_count": null,
   "id": "00ba7002-55a2-4f46-a1d0-e95cc565c5d7",
   "metadata": {},
   "outputs": [],
   "source": [
    "predictions = pd.Series(data=all_predictions, index=timestamps_test.values)\n",
    "actuals = pd.Series(data=all_actuals, index=timestamps_test.values)"
   ]
  },
  {
   "cell_type": "code",
   "execution_count": null,
   "id": "d2b672c3-1b2e-408c-b988-1f7862cc25f5",
   "metadata": {},
   "outputs": [],
   "source": [
    "# Evaluate the Model\n",
    "predictions_df.loc[models[0]] = all_predictions\n",
    "\n",
    "error_df.loc[models[0], 'RMSE'] = root_mean_squared_error(actuals, predictions)\n",
    "error_df.loc[models[0], 'MAE'] = mean_absolute_error(actuals, predictions)\n",
    "error_df.loc[models[0], 'ME'] = max_error(actuals, predictions)\n",
    "error_df.loc[models[0], 'MAPE'] = mean_absolute_percentage_error(actuals, predictions)\n",
    "\n",
    "plot_results(predictions, actuals, \"Day-Ahead Power Consumption Forecast\")"
   ]
  },
  {
   "cell_type": "code",
   "execution_count": null,
   "id": "700677e8-61f4-45a7-8e4f-6f63c3fb7ad0",
   "metadata": {},
   "outputs": [],
   "source": [
    "plot_results_by_month(predictions, actuals, \"Day-Ahead Power Consumption Forecast - SARIMA\")"
   ]
  },
  {
   "cell_type": "code",
   "execution_count": null,
   "id": "e40ad642-dc15-42bc-8988-ebc5329588a9",
   "metadata": {},
   "outputs": [],
   "source": [
    "plot_results_by_month(predictions, actuals, \"Day-Ahead Power Consumption Forecast - SARIMA\")"
   ]
  },
  {
   "cell_type": "markdown",
   "id": "54c2d019-6ec3-4188-9c3c-d0735cca54b6",
   "metadata": {},
   "source": [
    "## Persistence forecast model"
   ]
  },
  {
   "cell_type": "code",
   "execution_count": null,
   "id": "de6e36e3-ea4c-41ac-93a5-fe091f660a2d",
   "metadata": {},
   "outputs": [],
   "source": [
    "augmented_test = pd.concat([train[-24:], test], axis = 0)\n",
    "augmented_test[target_col] = augmented_test[target_col].shift(24)\n",
    "augmented_test = augmented_test[24:]\n",
    "\n",
    "predictions = augmented_test[target_col]\n",
    "\n",
    "# Evaluate the Model\n",
    "predictions_df.loc[models[1]] = predictions.values.flatten()\n",
    "\n",
    "# Evaluate the Model\n",
    "error_df.loc[models[1], 'RMSE'] = root_mean_squared_error(actuals, predictions)\n",
    "error_df.loc[models[1], 'MAE'] = mean_absolute_error(actuals, predictions)\n",
    "error_df.loc[models[1], 'ME'] = max_error(actuals, predictions)\n",
    "error_df.loc[models[1], 'MAPE'] = mean_absolute_percentage_error(actuals, predictions)"
   ]
  },
  {
   "cell_type": "code",
   "execution_count": null,
   "id": "24394290-6a10-433d-8425-0d36165e046d",
   "metadata": {},
   "outputs": [],
   "source": [
    "plot_results(predictions, actuals, \"Day-Ahead Power Consumption Forecast - persistence forecast\")"
   ]
  },
  {
   "cell_type": "code",
   "execution_count": null,
   "id": "8b38be04-8997-40c2-88e4-f305132cff69",
   "metadata": {},
   "outputs": [],
   "source": [
    "plot_results_by_month(predictions, actuals, \"Day-Ahead Power Consumption Forecast - persistence forecast\")"
   ]
  },
  {
   "cell_type": "markdown",
   "id": "0cfe851f-4363-451b-99c2-814be3ac89b7",
   "metadata": {},
   "source": [
    "### Comparison of benchmark models"
   ]
  },
  {
   "cell_type": "code",
   "execution_count": null,
   "id": "e4b7722b-a4c7-4490-af86-143c82cbbad3",
   "metadata": {},
   "outputs": [],
   "source": [
    "error_df"
   ]
  },
  {
   "cell_type": "code",
   "execution_count": null,
   "id": "01ec652b-4027-400d-89ca-723f16cb0321",
   "metadata": {},
   "outputs": [],
   "source": [
    "error_df / np.max(error_df, axis = 0)"
   ]
  },
  {
   "cell_type": "code",
   "execution_count": null,
   "id": "ffcc526e-7cb2-45c8-91f4-642ab421e3d3",
   "metadata": {},
   "outputs": [],
   "source": [
    "x = test.index\n",
    "ref_curve = actuals\n",
    "curves = [pd.to_numeric(predictions_df.loc[model], errors=\"coerce\") for model in models]\n",
    "labels = models\n",
    "colors = [\"red\", \"blue\"]"
   ]
  },
  {
   "cell_type": "code",
   "execution_count": null,
   "id": "781f67c1-bf20-4993-93bf-ca5467e789d0",
   "metadata": {},
   "outputs": [],
   "source": [
    "plot_curves_with_reference(x, ref_curve, curves, labels, colors, title=\"Benchmark models\")"
   ]
  },
  {
   "cell_type": "code",
   "execution_count": null,
   "id": "a226d861-bd70-4069-bb92-4e2906be5837",
   "metadata": {},
   "outputs": [],
   "source": [
    "plot_curves_with_reference_by_month(x, ref_curve, curves, labels, colors, title=\"Benchmark Models by Month\")"
   ]
  }
 ],
 "metadata": {
  "kernelspec": {
   "display_name": "Python 3 (ipykernel)",
   "language": "python",
   "name": "python3"
  },
  "language_info": {
   "codemirror_mode": {
    "name": "ipython",
    "version": 3
   },
   "file_extension": ".py",
   "mimetype": "text/x-python",
   "name": "python",
   "nbconvert_exporter": "python",
   "pygments_lexer": "ipython3",
   "version": "3.12.4"
  }
 },
 "nbformat": 4,
 "nbformat_minor": 5
}

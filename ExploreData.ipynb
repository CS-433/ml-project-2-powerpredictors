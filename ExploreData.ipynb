{
 "cells": [
  {
   "cell_type": "code",
   "execution_count": null,
   "metadata": {},
   "outputs": [],
   "source": [
    "import pandas as pd\n",
    "import sys\n",
    "\n",
    "# Add your system path here\n",
    "sys_path = r'C:\\Users\\Max Tost\\Desktop\\Notebooks\\PowerPrediction\\ml-project-2-powerpredictors'\n",
    "sys.path.append(sys_path)\n",
    "\n",
    "from helpers import *"
   ]
  },
  {
   "cell_type": "markdown",
   "metadata": {},
   "source": [
    "### Loading the data in a dataframe"
   ]
  },
  {
   "cell_type": "code",
   "execution_count": null,
   "metadata": {},
   "outputs": [
    {
     "data": {
      "text/plain": [
       "0.38233132441569895"
      ]
     },
     "execution_count": 2,
     "metadata": {},
     "output_type": "execute_result"
    }
   ],
   "source": [
    "path = sys_path + r'\\epfl_campus_demand.csv'\n",
    "data = LoadData(path)\n",
    "\n",
    "# Showing the relative amount of data that are Nan in a column\n",
    "relnan(data, 'estimated_demand')"
   ]
  },
  {
   "cell_type": "markdown",
   "metadata": {},
   "source": [
    "### Checking which sections are Nans"
   ]
  },
  {
   "cell_type": "code",
   "execution_count": null,
   "metadata": {},
   "outputs": [
    {
     "data": {
      "text/plain": [
       "5480    6274.005092\n",
       "5481            NaN\n",
       "5482            NaN\n",
       "5483            NaN\n",
       "5484            NaN\n",
       "5485            NaN\n",
       "5486            NaN\n",
       "5487            NaN\n",
       "5488            NaN\n",
       "5489            NaN\n",
       "5490            NaN\n",
       "5491            NaN\n",
       "5492            NaN\n",
       "5493            NaN\n",
       "5494            NaN\n",
       "5495            NaN\n",
       "5496            NaN\n",
       "5497            NaN\n",
       "5498            NaN\n",
       "5499            NaN\n",
       "5500            NaN\n",
       "5501            NaN\n",
       "5502            NaN\n",
       "5503            NaN\n",
       "5504            NaN\n",
       "5505            NaN\n",
       "5506            NaN\n",
       "5507            NaN\n",
       "5508            NaN\n",
       "5509            NaN\n",
       "5510            NaN\n",
       "5511            NaN\n",
       "5512            NaN\n",
       "5513            NaN\n",
       "5514            NaN\n",
       "5515            NaN\n",
       "5516            NaN\n",
       "5517            NaN\n",
       "5518            NaN\n",
       "5519            NaN\n",
       "5520            NaN\n",
       "5521            NaN\n",
       "5522            NaN\n",
       "5523            NaN\n",
       "5524            NaN\n",
       "5525            NaN\n",
       "5526            NaN\n",
       "5527            NaN\n",
       "5528            NaN\n",
       "5529            NaN\n",
       "5530            NaN\n",
       "5531            NaN\n",
       "5532            NaN\n",
       "5533            NaN\n",
       "5534            NaN\n",
       "5535            NaN\n",
       "5536    5886.194757\n",
       "Name: estimated_demand, dtype: float64"
      ]
     },
     "execution_count": 3,
     "metadata": {},
     "output_type": "execute_result"
    }
   ],
   "source": [
    "nan_sections = return_nan_sections(data, 'estimated_demand') # Returns array with the first and last index of the data frame where the values are nan\n",
    "\n",
    "# Inspecting the outcome\n",
    "nan_n = 10\n",
    "data['estimated_demand'][nan_sections[nan_n][0]-1:nan_sections[nan_n][1]+1]"
   ]
  },
  {
   "cell_type": "markdown",
   "metadata": {},
   "source": [
    "Here its included one element before and behind the returned indices to check that it worked, which it did. Now I am happy."
   ]
  },
  {
   "cell_type": "markdown",
   "metadata": {},
   "source": [
    "## Creating features and targets to train the network\n",
    "Here we will cut the whole data in slices of 7 days, which will be the features. \\\n",
    "The value of the power for the first hour of the 8th day should be the target. \\\n",
    "Then we will save them as features and targets to use them with pytorch"
   ]
  },
  {
   "cell_type": "code",
   "execution_count": null,
   "metadata": {},
   "outputs": [],
   "source": []
  }
 ],
 "metadata": {
  "kernelspec": {
   "display_name": "Python 3 (ipykernel)",
   "language": "python",
   "name": "python3"
  },
  "language_info": {
   "codemirror_mode": {
    "name": "ipython",
    "version": 3
   },
   "file_extension": ".py",
   "mimetype": "text/x-python",
   "name": "python",
   "nbconvert_exporter": "python",
   "pygments_lexer": "ipython3",
   "version": "3.11.5"
  }
 },
 "nbformat": 4,
 "nbformat_minor": 2
}

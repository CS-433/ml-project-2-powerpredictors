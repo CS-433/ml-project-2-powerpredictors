{
 "cells": [
  {
   "cell_type": "code",
   "execution_count": 33,
   "metadata": {},
   "outputs": [],
   "source": [
    "import pandas as pd\n",
    "import sys\n",
    "import torch\n",
    "from torch.utils.data import DataLoader\n",
    "\n",
    "# Add your system path here\n",
    "sys_path = r'C:\\Users\\Max Tost\\Desktop\\Notebooks\\PowerPrediction\\ml-project-2-powerpredictors'\n",
    "sys.path.append(sys_path)\n",
    "\n",
    "from helpers import *"
   ]
  },
  {
   "cell_type": "markdown",
   "metadata": {},
   "source": [
    "### Loading the data in a dataframe"
   ]
  },
  {
   "cell_type": "code",
   "execution_count": 34,
   "metadata": {},
   "outputs": [
    {
     "name": "stdout",
     "output_type": "stream",
     "text": [
      "   year     month  day      hour  power_consumption       ghi      temp  \\\n",
      "0   0.0  0.272727  0.4  0.434783           0.218368  2.318664  0.448423   \n",
      "1   0.0  0.272727  0.4  0.478261          -0.111426  2.091075  0.567245   \n",
      "2   0.0  0.272727  0.4  0.521739          -0.166392  1.985427  0.692455   \n",
      "\n",
      "       wind  is_weekend  is_holiday  is_daylight  \n",
      "0 -0.837392           0           0            1  \n",
      "1 -0.368104           0           0            1  \n",
      "2  0.114987           0           0            1  \n",
      "   year     month  day      hour  power_consumption       ghi      temp  \\\n",
      "3   0.0  0.272727  0.4  0.565217                NaN  1.270273  0.766559   \n",
      "4   0.0  0.272727  0.4  0.608696                NaN  1.713181  0.799778   \n",
      "5   0.0  0.272727  0.4  0.652174           0.218368  1.355604  0.802333   \n",
      "6   0.0  0.272727  0.4  0.695652          -0.111426  0.664831  0.789557   \n",
      "\n",
      "       wind  is_weekend  is_holiday  is_daylight  \n",
      "3  0.018369           0           0            1  \n",
      "4 -0.174867           0           0            1  \n",
      "5 -0.644155           0           0            1  \n",
      "6 -1.127246           0           0            1  \n",
      "________________________________________________________________________________\n",
      "In this dataset, the power consumption is now shifted in the future by 5 days,\n",
      "to let the network see the values that are predicted by the forecast\n",
      "________________________________________________________________________________\n",
      "tensor([ 0.0000,  0.2727,  0.4000,  0.6522,  0.2184,  1.3556,  0.8023, -0.6442,\n",
      "         0.0000,  0.0000,  1.0000], dtype=torch.float64)\n"
     ]
    }
   ],
   "source": [
    "data = pd.read_csv(r'C:\\Users\\Max Tost\\Desktop\\Notebooks\\PowerPrediction\\ml-project-2-powerpredictors\\data\\Training_dataset.csv')\n",
    "print(data[:3])\n",
    "look_ahead = 5 # Timesteps that the LSTM will be able to look into the future\n",
    "data_tensor = shift_dataframe_column(data, 'power_consumption', look_ahead)\n",
    "print(data_tensor[0])"
   ]
  },
  {
   "cell_type": "markdown",
   "metadata": {},
   "source": [
    "## Creating features and targets with Dataloader"
   ]
  },
  {
   "cell_type": "code",
   "execution_count": 35,
   "metadata": {},
   "outputs": [],
   "source": [
    "# Creating datasets\n",
    "train_dataset = MultiTimeSeriesDataset(data_tensor[:int(0.8*len(data_tensor))]) # Using first 80% for training\n",
    "val_dataset = MultiTimeSeriesDataset(data_tensor[int(0.8*len(data_tensor)):]) # Using last 20% for evaluation \n",
    "\n",
    "# DataLoader for batching\n",
    "train_loader = DataLoader(train_dataset, batch_size=16, shuffle=True)\n",
    "val_loader = DataLoader(val_dataset, batch_size=16, shuffle=True)"
   ]
  },
  {
   "cell_type": "code",
   "execution_count": 36,
   "metadata": {},
   "outputs": [
    {
     "name": "stdout",
     "output_type": "stream",
     "text": [
      "torch.Size([16, 72, 11]) torch.Size([16, 1])\n"
     ]
    },
    {
     "name": "stderr",
     "output_type": "stream",
     "text": [
      "C:\\Users\\Max Tost\\Desktop\\Notebooks\\PowerPrediction\\ml-project-2-powerpredictors\\helpers.py:28: UserWarning: To copy construct from a tensor, it is recommended to use sourceTensor.clone().detach() or sourceTensor.clone().detach().requires_grad_(True), rather than torch.tensor(sourceTensor).\n",
      "  return torch.tensor(x, dtype=torch.float32), torch.tensor(y, dtype=torch.float32).unsqueeze(0)\n"
     ]
    }
   ],
   "source": [
    "for x, y in train_loader:\n",
    "    print(x.shape, y.shape)\n",
    "    break"
   ]
  },
  {
   "cell_type": "markdown",
   "metadata": {},
   "source": [
    "## Training Loop"
   ]
  },
  {
   "cell_type": "code",
   "execution_count": null,
   "metadata": {},
   "outputs": [],
   "source": [
    "class LSTMModel(nn.Module):\n",
    "    def __init__(self, input_size, hidden_size, num_layers, output_size, dropout_prob):\n",
    "        \"\"\"\n",
    "        Initialize the LSTM-based regression model.\n",
    "\n",
    "        Args:\n",
    "            input_size (int): Number of input features (e.g., temperature, GHI, etc.).\n",
    "            hidden_size (int): Number of units in each LSTM layer.\n",
    "            num_layers (int): Number of stacked LSTM layers.\n",
    "            output_size (int): Number of output features (e.g., predicted demand, 1 for regression).\n",
    "            dropout_prob (float): Dropout probability to apply between LSTM layers and before the fully connected layer.\n",
    "        \"\"\"\n",
    "        super(LSTMModel, self).__init__()\n",
    "\n",
    "        # LSTM Layer\n",
    "        # - Processes sequential data and learns temporal dependencies.\n",
    "        # - Supports multiple layers (num_layers) and applies dropout between layers.\n",
    "        self.lstm = nn.LSTM(\n",
    "            input_size=input_size, \n",
    "            hidden_size=hidden_size, \n",
    "            num_layers=num_layers,\n",
    "            dropout=dropout_prob,\n",
    "            batch_first=True,\n",
    "        )\n",
    "\n",
    "        # Fully Connected (Linear) Layer\n",
    "        # - Maps the LSTM's hidden state output to the desired output size.\n",
    "        self.fc = nn.Linear(hidden_size, output_size)\n",
    "\n",
    "        # Dropout Layer\n",
    "        # - Reduces overfitting by randomly zeroing some activations during training.\n",
    "        self.dropout = nn.Dropout(dropout_prob)\n",
    "\n",
    "    def forward(self, x):\n",
    "        \"\"\"\n",
    "        Forward pass for the LSTM model.\n",
    "\n",
    "        Args:\n",
    "            x (torch.Tensor): Input tensor of shape (batch_size, seq_length, input_size).\n",
    "\n",
    "        Returns:\n",
    "            torch.Tensor: Output predictions of shape (batch_size, output_size).\n",
    "        \"\"\"\n",
    "        # LSTM Layer\n",
    "        # - Returns the full sequence of hidden states and the final hidden/cell state tuple.\n",
    "        # - We ignore the hidden/cell state tuple here (h_n, c_n).\n",
    "        _ , (h_f, _) = self.lstm(x)\n",
    "\n",
    "        # Dropout Layer\n",
    "        # - Only uses the hidden state from the last time step for prediction.\n",
    "        # - Applies dropout to prevent overfitting.\n",
    "        out = self.dropout(h_f[0])  # Shape: (num_layers, batch_size, hidden_size)\n",
    "\n",
    "        out = \n",
    "\n",
    "        # Fully Connected Layer\n",
    "        # - Maps the LSTM's output to the desired output size (e.g., single regression output).\n",
    "        out = self.fc(out)  # Shape: (batch_size, output_size)\n",
    "\n",
    "        return out"
   ]
  },
  {
   "cell_type": "code",
   "execution_count": 8,
   "metadata": {},
   "outputs": [
    {
     "name": "stdout",
     "output_type": "stream",
     "text": [
      "Epoch 0, Validation Loss: 0.9822\n",
      "Epoch 1, Validation Loss: 0.0716\n",
      "Epoch 1, Learning Rate: 0.004532\n",
      "Epoch 2, Validation Loss: 0.0635\n",
      "Epoch 2, Learning Rate: 0.003307\n",
      "Epoch 3, Validation Loss: 0.0587\n",
      "Epoch 3, Learning Rate: 0.001793\n",
      "Epoch 4, Validation Loss: 0.0611\n",
      "Epoch 4, Learning Rate: 0.000568\n",
      "Epoch 5, Validation Loss: 0.0618\n",
      "Epoch 5, Learning Rate: 0.000100\n"
     ]
    }
   ],
   "source": [
    "# 5 min per epoch here on this cpu, validation loss afer 1 epoch: 154743.1982 (Whatever that means)\n",
    "import torch\n",
    "import torch.optim as optim\n",
    "from torch.optim.lr_scheduler import CosineAnnealingLR\n",
    "\n",
    "# Number of epochs\n",
    "num_epochs = 5\n",
    "\n",
    "# Initialize model, loss function, and optimizer\n",
    "model = LSTMModel(input_size=len(data_tensor[0]), hidden_size=64, num_layers=2, output_size=1, dropout_prob=0.2)\n",
    "criterion = torch.nn.MSELoss()\n",
    "optimizer = optim.Adam(model.parameters(), lr=0.005)\n",
    "\n",
    "# Initialize the cosine annealing scheduler\n",
    "scheduler = CosineAnnealingLR(optimizer, T_max=num_epochs, eta_min=0.0001)\n",
    "\n",
    "# A single validation step before training\n",
    "model.eval()\n",
    "val_loss = 0.0\n",
    "with torch.no_grad():\n",
    "    for x_val, y_val in val_loader:\n",
    "        val_output = model(x_val)\n",
    "        val_loss += criterion(val_output, y_val).item()\n",
    "val_loss /= len(val_loader)\n",
    "print(f\"Epoch 0, Validation Loss: {val_loss:.4f}\")\n",
    "\n",
    "for epoch in range(num_epochs):\n",
    "    model.train()\n",
    "    for x, y in train_loader:\n",
    "        optimizer.zero_grad()\n",
    "\n",
    "        # Get output\n",
    "        output = model(x)\n",
    "\n",
    "        # Compute loss\n",
    "        loss = criterion(output, y)\n",
    "\n",
    "        # Backward pass and optimization\n",
    "        loss.backward()\n",
    "        optimizer.step()\n",
    "\n",
    "    # Step the scheduler at the end of the epoch\n",
    "    scheduler.step()\n",
    "\n",
    "    # Validation (optional)\n",
    "    model.eval()\n",
    "    val_loss = 0.0\n",
    "    with torch.no_grad():\n",
    "        for x_val, y_val in val_loader:\n",
    "            val_output = model(x_val)\n",
    "            val_loss += criterion(val_output, y_val).item()\n",
    "    val_loss /= len(val_loader)\n",
    "    print(f\"Epoch {epoch + 1}, Validation Loss: {val_loss:.4f}\")\n",
    "\n",
    "    # Print the current learning rate\n",
    "    current_lr = scheduler.get_last_lr()[0]\n",
    "    print(f\"Epoch {epoch + 1}, Learning Rate: {current_lr:.6f}\")\n",
    "\n"
   ]
  },
  {
   "cell_type": "markdown",
   "metadata": {},
   "source": [
    "## Prediction - TO DO"
   ]
  },
  {
   "cell_type": "code",
   "execution_count": 9,
   "metadata": {},
   "outputs": [
    {
     "data": {
      "text/plain": [
       "tensor([1., 1., 1., 1., 1., 1.], dtype=torch.float64)"
      ]
     },
     "execution_count": 9,
     "metadata": {},
     "output_type": "execute_result"
    }
   ],
   "source": [
    "a = np.ones((3, 2))\n",
    "a = torch.tensor(a)\n",
    "torch.flatten(a)"
   ]
  },
  {
   "cell_type": "code",
   "execution_count": 144,
   "metadata": {},
   "outputs": [
    {
     "name": "stderr",
     "output_type": "stream",
     "text": [
      "C:\\Users\\Max Tost\\AppData\\Local\\Temp\\ipykernel_5640\\4141761729.py:38: UserWarning: To copy construct from a tensor, it is recommended to use sourceTensor.clone().detach() or sourceTensor.clone().detach().requires_grad_(True), rather than torch.tensor(sourceTensor).\n",
      "  last_week_data = torch.tensor(data[-168:], dtype=torch.float32)  # Last 7 days of data\n"
     ]
    },
    {
     "ename": "ValueError",
     "evalue": "LSTM: Expected input to be 2D or 3D, got 4D instead",
     "output_type": "error",
     "traceback": [
      "\u001b[1;31m---------------------------------------------------------------------------\u001b[0m",
      "\u001b[1;31mValueError\u001b[0m                                Traceback (most recent call last)",
      "Cell \u001b[1;32mIn[144], line 39\u001b[0m\n\u001b[0;32m     37\u001b[0m \u001b[38;5;66;03m# Example usage\u001b[39;00m\n\u001b[0;32m     38\u001b[0m last_week_data \u001b[38;5;241m=\u001b[39m torch\u001b[38;5;241m.\u001b[39mtensor(data[\u001b[38;5;241m-\u001b[39m\u001b[38;5;241m168\u001b[39m:], dtype\u001b[38;5;241m=\u001b[39mtorch\u001b[38;5;241m.\u001b[39mfloat32)  \u001b[38;5;66;03m# Last 7 days of data\u001b[39;00m\n\u001b[1;32m---> 39\u001b[0m predictions \u001b[38;5;241m=\u001b[39m evaluate_model(model, last_week_data)\n\u001b[0;32m     40\u001b[0m \u001b[38;5;28mprint\u001b[39m(predictions)\n",
      "Cell \u001b[1;32mIn[144], line 28\u001b[0m, in \u001b[0;36mevaluate_model\u001b[1;34m(model, initial_data, num_predictions)\u001b[0m\n\u001b[0;32m     26\u001b[0m last_input \u001b[38;5;241m=\u001b[39m initial_data[\u001b[38;5;241m-\u001b[39m\u001b[38;5;241m1\u001b[39m, :]\u001b[38;5;241m.\u001b[39munsqueeze(\u001b[38;5;241m0\u001b[39m)\u001b[38;5;241m.\u001b[39munsqueeze(\u001b[38;5;241m0\u001b[39m)  \u001b[38;5;66;03m# Shape: [1, 1, num_features]\u001b[39;00m\n\u001b[0;32m     27\u001b[0m \u001b[38;5;28;01mfor\u001b[39;00m _ \u001b[38;5;129;01min\u001b[39;00m \u001b[38;5;28mrange\u001b[39m(num_predictions):\n\u001b[1;32m---> 28\u001b[0m     output, hidden \u001b[38;5;241m=\u001b[39m model\u001b[38;5;241m.\u001b[39mlstm(last_input, hidden)  \u001b[38;5;66;03m# Predict next hour\u001b[39;00m\n\u001b[0;32m     29\u001b[0m     prediction \u001b[38;5;241m=\u001b[39m model\u001b[38;5;241m.\u001b[39mfc(output[:, \u001b[38;5;241m-\u001b[39m\u001b[38;5;241m1\u001b[39m, :])  \u001b[38;5;66;03m# Map hidden state to output\u001b[39;00m\n\u001b[0;32m     30\u001b[0m     predictions\u001b[38;5;241m.\u001b[39mappend(prediction\u001b[38;5;241m.\u001b[39msqueeze(\u001b[38;5;241m0\u001b[39m))\n",
      "File \u001b[1;32m~\\anaconda3\\Lib\\site-packages\\torch\\nn\\modules\\module.py:1736\u001b[0m, in \u001b[0;36mModule._wrapped_call_impl\u001b[1;34m(self, *args, **kwargs)\u001b[0m\n\u001b[0;32m   1734\u001b[0m     \u001b[38;5;28;01mreturn\u001b[39;00m \u001b[38;5;28mself\u001b[39m\u001b[38;5;241m.\u001b[39m_compiled_call_impl(\u001b[38;5;241m*\u001b[39margs, \u001b[38;5;241m*\u001b[39m\u001b[38;5;241m*\u001b[39mkwargs)  \u001b[38;5;66;03m# type: ignore[misc]\u001b[39;00m\n\u001b[0;32m   1735\u001b[0m \u001b[38;5;28;01melse\u001b[39;00m:\n\u001b[1;32m-> 1736\u001b[0m     \u001b[38;5;28;01mreturn\u001b[39;00m \u001b[38;5;28mself\u001b[39m\u001b[38;5;241m.\u001b[39m_call_impl(\u001b[38;5;241m*\u001b[39margs, \u001b[38;5;241m*\u001b[39m\u001b[38;5;241m*\u001b[39mkwargs)\n",
      "File \u001b[1;32m~\\anaconda3\\Lib\\site-packages\\torch\\nn\\modules\\module.py:1747\u001b[0m, in \u001b[0;36mModule._call_impl\u001b[1;34m(self, *args, **kwargs)\u001b[0m\n\u001b[0;32m   1742\u001b[0m \u001b[38;5;66;03m# If we don't have any hooks, we want to skip the rest of the logic in\u001b[39;00m\n\u001b[0;32m   1743\u001b[0m \u001b[38;5;66;03m# this function, and just call forward.\u001b[39;00m\n\u001b[0;32m   1744\u001b[0m \u001b[38;5;28;01mif\u001b[39;00m \u001b[38;5;129;01mnot\u001b[39;00m (\u001b[38;5;28mself\u001b[39m\u001b[38;5;241m.\u001b[39m_backward_hooks \u001b[38;5;129;01mor\u001b[39;00m \u001b[38;5;28mself\u001b[39m\u001b[38;5;241m.\u001b[39m_backward_pre_hooks \u001b[38;5;129;01mor\u001b[39;00m \u001b[38;5;28mself\u001b[39m\u001b[38;5;241m.\u001b[39m_forward_hooks \u001b[38;5;129;01mor\u001b[39;00m \u001b[38;5;28mself\u001b[39m\u001b[38;5;241m.\u001b[39m_forward_pre_hooks\n\u001b[0;32m   1745\u001b[0m         \u001b[38;5;129;01mor\u001b[39;00m _global_backward_pre_hooks \u001b[38;5;129;01mor\u001b[39;00m _global_backward_hooks\n\u001b[0;32m   1746\u001b[0m         \u001b[38;5;129;01mor\u001b[39;00m _global_forward_hooks \u001b[38;5;129;01mor\u001b[39;00m _global_forward_pre_hooks):\n\u001b[1;32m-> 1747\u001b[0m     \u001b[38;5;28;01mreturn\u001b[39;00m forward_call(\u001b[38;5;241m*\u001b[39margs, \u001b[38;5;241m*\u001b[39m\u001b[38;5;241m*\u001b[39mkwargs)\n\u001b[0;32m   1749\u001b[0m result \u001b[38;5;241m=\u001b[39m \u001b[38;5;28;01mNone\u001b[39;00m\n\u001b[0;32m   1750\u001b[0m called_always_called_hooks \u001b[38;5;241m=\u001b[39m \u001b[38;5;28mset\u001b[39m()\n",
      "File \u001b[1;32m~\\anaconda3\\Lib\\site-packages\\torch\\nn\\modules\\rnn.py:1074\u001b[0m, in \u001b[0;36mLSTM.forward\u001b[1;34m(self, input, hx)\u001b[0m\n\u001b[0;32m   1072\u001b[0m \u001b[38;5;28;01melse\u001b[39;00m:\n\u001b[0;32m   1073\u001b[0m     \u001b[38;5;28;01mif\u001b[39;00m \u001b[38;5;28minput\u001b[39m\u001b[38;5;241m.\u001b[39mdim() \u001b[38;5;129;01mnot\u001b[39;00m \u001b[38;5;129;01min\u001b[39;00m (\u001b[38;5;241m2\u001b[39m, \u001b[38;5;241m3\u001b[39m):\n\u001b[1;32m-> 1074\u001b[0m         \u001b[38;5;28;01mraise\u001b[39;00m \u001b[38;5;167;01mValueError\u001b[39;00m(\n\u001b[0;32m   1075\u001b[0m             \u001b[38;5;124mf\u001b[39m\u001b[38;5;124m\"\u001b[39m\u001b[38;5;124mLSTM: Expected input to be 2D or 3D, got \u001b[39m\u001b[38;5;132;01m{\u001b[39;00m\u001b[38;5;28minput\u001b[39m\u001b[38;5;241m.\u001b[39mdim()\u001b[38;5;132;01m}\u001b[39;00m\u001b[38;5;124mD instead\u001b[39m\u001b[38;5;124m\"\u001b[39m\n\u001b[0;32m   1076\u001b[0m         )\n\u001b[0;32m   1077\u001b[0m     is_batched \u001b[38;5;241m=\u001b[39m \u001b[38;5;28minput\u001b[39m\u001b[38;5;241m.\u001b[39mdim() \u001b[38;5;241m==\u001b[39m \u001b[38;5;241m3\u001b[39m\n\u001b[0;32m   1078\u001b[0m     batch_dim \u001b[38;5;241m=\u001b[39m \u001b[38;5;241m0\u001b[39m \u001b[38;5;28;01mif\u001b[39;00m \u001b[38;5;28mself\u001b[39m\u001b[38;5;241m.\u001b[39mbatch_first \u001b[38;5;28;01melse\u001b[39;00m \u001b[38;5;241m1\u001b[39m\n",
      "\u001b[1;31mValueError\u001b[0m: LSTM: Expected input to be 2D or 3D, got 4D instead"
     ]
    }
   ],
   "source": [
    "def evaluate_model(model, initial_data, num_predictions=24):\n",
    "    \"\"\"\n",
    "    Evaluate the LSTM to predict the next 24 hours recursively.\n",
    "\n",
    "    Args:\n",
    "        model (LSTMModel): Trained LSTM model.\n",
    "        initial_data (torch.Tensor): Data from the last 7 days (shape: [168, num_features]).\n",
    "        num_predictions (int): Number of hours to predict (default: 24).\n",
    "\n",
    "    Returns:\n",
    "        torch.Tensor: Predicted values for the next 24 hours (shape: [24, num_features]).\n",
    "    \"\"\"\n",
    "    model.eval()\n",
    "    predictions = []\n",
    "\n",
    "    # Initialize hidden state with the last 7 days\n",
    "    with torch.no_grad():\n",
    "        input_seq = initial_data.unsqueeze(0)  # Shape: [1, seq_len=168, num_features]\n",
    "        hidden = None  # Let the LSTM initialize hidden state\n",
    "\n",
    "        # Process the last 7 days to initialize hidden state\n",
    "        for t in range(initial_data.size(0)):\n",
    "            _, hidden = model.lstm(input_seq[:, t:t+1, :], hidden)\n",
    "\n",
    "        # Recursive prediction for the next 24 hours\n",
    "        last_input = initial_data[-1, :].unsqueeze(0).unsqueeze(0)  # Shape: [1, 1, num_features]\n",
    "        for _ in range(num_predictions):\n",
    "            output, hidden = model.lstm(last_input, hidden)  # Predict next hour\n",
    "            prediction = model.fc(output[:, -1, :])  # Map hidden state to output\n",
    "            predictions.append(prediction.squeeze(0))\n",
    "\n",
    "            # Use the predicted value as the next input\n",
    "            last_input = prediction.unsqueeze(0).unsqueeze(0)\n",
    "\n",
    "    return torch.stack(predictions)  # Shape: [24, num_features]\n",
    "\n",
    "# Example usage\n",
    "last_week_data = torch.tensor(data[-168:], dtype=torch.float32)  # Last 7 days of data\n",
    "predictions = evaluate_model(model, last_week_data)\n",
    "print(predictions)\n"
   ]
  },
  {
   "cell_type": "markdown",
   "metadata": {},
   "source": [
    "## Uncertainty - TO DO"
   ]
  },
  {
   "cell_type": "code",
   "execution_count": 13,
   "metadata": {},
   "outputs": [],
   "source": [
    "def monte_carlo_predictions(model, x, n_simulations):\n",
    "    \"\"\"\n",
    "    Perform Monte Carlo Dropout predictions to estimate both \n",
    "    the mean prediction and uncertainty.\n",
    "\n",
    "    Args:\n",
    "        model (torch.nn.Module): The trained PyTorch model with dropout layers.\n",
    "        x (torch.Tensor): Input tensor of shape (batch_size, seq_length, input_features).\n",
    "        n_simulations (int): Number of stochastic forward passes to perform.\n",
    "\n",
    "    Returns:\n",
    "        tuple:\n",
    "            - mean_pred (torch.Tensor): The mean prediction across all simulations.\n",
    "              Shape: (batch_size, output_features).\n",
    "            - uncertainty (torch.Tensor): The standard deviation of predictions \n",
    "              (representing uncertainty) across simulations.\n",
    "              Shape: (batch_size, output_features).\n",
    "    \"\"\"\n",
    "    # Set the model to train mode to enable dropout during inference\n",
    "    # Dropout layers behave stochastically in train mode, which is necessary for Monte Carlo sampling\n",
    "    model.train()\n",
    "\n",
    "    # Perform n_simulations stochastic forward passes\n",
    "    # Each simulation generates slightly different predictions due to dropout\n",
    "    preds = torch.stack([model(x) for _ in range(n_simulations)])  # Shape: (n_simulations, batch_size, output_features)\n",
    "\n",
    "    # Compute the mean prediction across all simulations\n",
    "    mean_pred = preds.mean(dim=0)  # Shape: (batch_size, output_features)\n",
    "\n",
    "    # Compute the standard deviation across simulations to estimate uncertainty\n",
    "    uncertainty = preds.std(dim=0)  # Shape: (batch_size, output_features)\n",
    "\n",
    "    return mean_pred, uncertainty\n"
   ]
  },
  {
   "cell_type": "code",
   "execution_count": null,
   "metadata": {},
   "outputs": [],
   "source": [
    "test_x = [x for x, y in val_loader] # Extracting x and y from validation sets"
   ]
  },
  {
   "cell_type": "code",
   "execution_count": null,
   "metadata": {},
   "outputs": [],
   "source": [
    "uncert = monte_carlo_predictions(model, test_x[0], 100) #finding uncertainty with one prediction"
   ]
  },
  {
   "cell_type": "code",
   "execution_count": 24,
   "metadata": {},
   "outputs": [
    {
     "ename": "KeyboardInterrupt",
     "evalue": "",
     "output_type": "error",
     "traceback": [
      "\u001b[1;31m---------------------------------------------------------------------------\u001b[0m",
      "\u001b[1;31mKeyboardInterrupt\u001b[0m                         Traceback (most recent call last)",
      "Cell \u001b[1;32mIn[24], line 3\u001b[0m\n\u001b[0;32m      1\u001b[0m uncert \u001b[38;5;241m=\u001b[39m []\n\u001b[0;32m      2\u001b[0m \u001b[38;5;28;01mfor\u001b[39;00m x_t \u001b[38;5;129;01min\u001b[39;00m test_x:\n\u001b[1;32m----> 3\u001b[0m     uncert\u001b[38;5;241m.\u001b[39mappend(monte_carlo_predictions(model, x_t, \u001b[38;5;241m100\u001b[39m))\n",
      "Cell \u001b[1;32mIn[13], line 25\u001b[0m, in \u001b[0;36mmonte_carlo_predictions\u001b[1;34m(model, x, n_simulations)\u001b[0m\n\u001b[0;32m     21\u001b[0m model\u001b[38;5;241m.\u001b[39mtrain()\n\u001b[0;32m     23\u001b[0m \u001b[38;5;66;03m# Perform n_simulations stochastic forward passes\u001b[39;00m\n\u001b[0;32m     24\u001b[0m \u001b[38;5;66;03m# Each simulation generates slightly different predictions due to dropout\u001b[39;00m\n\u001b[1;32m---> 25\u001b[0m preds \u001b[38;5;241m=\u001b[39m torch\u001b[38;5;241m.\u001b[39mstack([model(x) \u001b[38;5;28;01mfor\u001b[39;00m _ \u001b[38;5;129;01min\u001b[39;00m \u001b[38;5;28mrange\u001b[39m(n_simulations)])  \u001b[38;5;66;03m# Shape: (n_simulations, batch_size, output_features)\u001b[39;00m\n\u001b[0;32m     27\u001b[0m \u001b[38;5;66;03m# Compute the mean prediction across all simulations\u001b[39;00m\n\u001b[0;32m     28\u001b[0m mean_pred \u001b[38;5;241m=\u001b[39m preds\u001b[38;5;241m.\u001b[39mmean(dim\u001b[38;5;241m=\u001b[39m\u001b[38;5;241m0\u001b[39m)  \u001b[38;5;66;03m# Shape: (batch_size, output_features)\u001b[39;00m\n",
      "Cell \u001b[1;32mIn[13], line 25\u001b[0m, in \u001b[0;36m<listcomp>\u001b[1;34m(.0)\u001b[0m\n\u001b[0;32m     21\u001b[0m model\u001b[38;5;241m.\u001b[39mtrain()\n\u001b[0;32m     23\u001b[0m \u001b[38;5;66;03m# Perform n_simulations stochastic forward passes\u001b[39;00m\n\u001b[0;32m     24\u001b[0m \u001b[38;5;66;03m# Each simulation generates slightly different predictions due to dropout\u001b[39;00m\n\u001b[1;32m---> 25\u001b[0m preds \u001b[38;5;241m=\u001b[39m torch\u001b[38;5;241m.\u001b[39mstack([model(x) \u001b[38;5;28;01mfor\u001b[39;00m _ \u001b[38;5;129;01min\u001b[39;00m \u001b[38;5;28mrange\u001b[39m(n_simulations)])  \u001b[38;5;66;03m# Shape: (n_simulations, batch_size, output_features)\u001b[39;00m\n\u001b[0;32m     27\u001b[0m \u001b[38;5;66;03m# Compute the mean prediction across all simulations\u001b[39;00m\n\u001b[0;32m     28\u001b[0m mean_pred \u001b[38;5;241m=\u001b[39m preds\u001b[38;5;241m.\u001b[39mmean(dim\u001b[38;5;241m=\u001b[39m\u001b[38;5;241m0\u001b[39m)  \u001b[38;5;66;03m# Shape: (batch_size, output_features)\u001b[39;00m\n",
      "File \u001b[1;32m~\\anaconda3\\Lib\\site-packages\\torch\\nn\\modules\\module.py:1736\u001b[0m, in \u001b[0;36mModule._wrapped_call_impl\u001b[1;34m(self, *args, **kwargs)\u001b[0m\n\u001b[0;32m   1734\u001b[0m     \u001b[38;5;28;01mreturn\u001b[39;00m \u001b[38;5;28mself\u001b[39m\u001b[38;5;241m.\u001b[39m_compiled_call_impl(\u001b[38;5;241m*\u001b[39margs, \u001b[38;5;241m*\u001b[39m\u001b[38;5;241m*\u001b[39mkwargs)  \u001b[38;5;66;03m# type: ignore[misc]\u001b[39;00m\n\u001b[0;32m   1735\u001b[0m \u001b[38;5;28;01melse\u001b[39;00m:\n\u001b[1;32m-> 1736\u001b[0m     \u001b[38;5;28;01mreturn\u001b[39;00m \u001b[38;5;28mself\u001b[39m\u001b[38;5;241m.\u001b[39m_call_impl(\u001b[38;5;241m*\u001b[39margs, \u001b[38;5;241m*\u001b[39m\u001b[38;5;241m*\u001b[39mkwargs)\n",
      "File \u001b[1;32m~\\anaconda3\\Lib\\site-packages\\torch\\nn\\modules\\module.py:1747\u001b[0m, in \u001b[0;36mModule._call_impl\u001b[1;34m(self, *args, **kwargs)\u001b[0m\n\u001b[0;32m   1742\u001b[0m \u001b[38;5;66;03m# If we don't have any hooks, we want to skip the rest of the logic in\u001b[39;00m\n\u001b[0;32m   1743\u001b[0m \u001b[38;5;66;03m# this function, and just call forward.\u001b[39;00m\n\u001b[0;32m   1744\u001b[0m \u001b[38;5;28;01mif\u001b[39;00m \u001b[38;5;129;01mnot\u001b[39;00m (\u001b[38;5;28mself\u001b[39m\u001b[38;5;241m.\u001b[39m_backward_hooks \u001b[38;5;129;01mor\u001b[39;00m \u001b[38;5;28mself\u001b[39m\u001b[38;5;241m.\u001b[39m_backward_pre_hooks \u001b[38;5;129;01mor\u001b[39;00m \u001b[38;5;28mself\u001b[39m\u001b[38;5;241m.\u001b[39m_forward_hooks \u001b[38;5;129;01mor\u001b[39;00m \u001b[38;5;28mself\u001b[39m\u001b[38;5;241m.\u001b[39m_forward_pre_hooks\n\u001b[0;32m   1745\u001b[0m         \u001b[38;5;129;01mor\u001b[39;00m _global_backward_pre_hooks \u001b[38;5;129;01mor\u001b[39;00m _global_backward_hooks\n\u001b[0;32m   1746\u001b[0m         \u001b[38;5;129;01mor\u001b[39;00m _global_forward_hooks \u001b[38;5;129;01mor\u001b[39;00m _global_forward_pre_hooks):\n\u001b[1;32m-> 1747\u001b[0m     \u001b[38;5;28;01mreturn\u001b[39;00m forward_call(\u001b[38;5;241m*\u001b[39margs, \u001b[38;5;241m*\u001b[39m\u001b[38;5;241m*\u001b[39mkwargs)\n\u001b[0;32m   1749\u001b[0m result \u001b[38;5;241m=\u001b[39m \u001b[38;5;28;01mNone\u001b[39;00m\n\u001b[0;32m   1750\u001b[0m called_always_called_hooks \u001b[38;5;241m=\u001b[39m \u001b[38;5;28mset\u001b[39m()\n",
      "Cell \u001b[1;32mIn[11], line 57\u001b[0m, in \u001b[0;36mLSTMModel.forward\u001b[1;34m(self, x)\u001b[0m\n\u001b[0;32m     52\u001b[0m out, _ \u001b[38;5;241m=\u001b[39m \u001b[38;5;28mself\u001b[39m\u001b[38;5;241m.\u001b[39mlstm(x)\n\u001b[0;32m     54\u001b[0m \u001b[38;5;66;03m# Dropout Layer\u001b[39;00m\n\u001b[0;32m     55\u001b[0m \u001b[38;5;66;03m# - Only uses the hidden state from the last time step for prediction.\u001b[39;00m\n\u001b[0;32m     56\u001b[0m \u001b[38;5;66;03m# - Applies dropout to prevent overfitting.\u001b[39;00m\n\u001b[1;32m---> 57\u001b[0m out \u001b[38;5;241m=\u001b[39m \u001b[38;5;28mself\u001b[39m\u001b[38;5;241m.\u001b[39mdropout(out[:, \u001b[38;5;241m-\u001b[39m\u001b[38;5;241m1\u001b[39m, :])  \u001b[38;5;66;03m# Shape: (batch_size, hidden_size)\u001b[39;00m\n\u001b[0;32m     59\u001b[0m \u001b[38;5;66;03m# Fully Connected Layer\u001b[39;00m\n\u001b[0;32m     60\u001b[0m \u001b[38;5;66;03m# - Maps the LSTM's output to the desired output size (e.g., single regression output).\u001b[39;00m\n\u001b[0;32m     61\u001b[0m out \u001b[38;5;241m=\u001b[39m \u001b[38;5;28mself\u001b[39m\u001b[38;5;241m.\u001b[39mfc(out)  \u001b[38;5;66;03m# Shape: (batch_size, output_size)\u001b[39;00m\n",
      "File \u001b[1;32m~\\anaconda3\\Lib\\site-packages\\torch\\nn\\modules\\module.py:1736\u001b[0m, in \u001b[0;36mModule._wrapped_call_impl\u001b[1;34m(self, *args, **kwargs)\u001b[0m\n\u001b[0;32m   1734\u001b[0m     \u001b[38;5;28;01mreturn\u001b[39;00m \u001b[38;5;28mself\u001b[39m\u001b[38;5;241m.\u001b[39m_compiled_call_impl(\u001b[38;5;241m*\u001b[39margs, \u001b[38;5;241m*\u001b[39m\u001b[38;5;241m*\u001b[39mkwargs)  \u001b[38;5;66;03m# type: ignore[misc]\u001b[39;00m\n\u001b[0;32m   1735\u001b[0m \u001b[38;5;28;01melse\u001b[39;00m:\n\u001b[1;32m-> 1736\u001b[0m     \u001b[38;5;28;01mreturn\u001b[39;00m \u001b[38;5;28mself\u001b[39m\u001b[38;5;241m.\u001b[39m_call_impl(\u001b[38;5;241m*\u001b[39margs, \u001b[38;5;241m*\u001b[39m\u001b[38;5;241m*\u001b[39mkwargs)\n",
      "File \u001b[1;32m~\\anaconda3\\Lib\\site-packages\\torch\\nn\\modules\\module.py:1747\u001b[0m, in \u001b[0;36mModule._call_impl\u001b[1;34m(self, *args, **kwargs)\u001b[0m\n\u001b[0;32m   1742\u001b[0m \u001b[38;5;66;03m# If we don't have any hooks, we want to skip the rest of the logic in\u001b[39;00m\n\u001b[0;32m   1743\u001b[0m \u001b[38;5;66;03m# this function, and just call forward.\u001b[39;00m\n\u001b[0;32m   1744\u001b[0m \u001b[38;5;28;01mif\u001b[39;00m \u001b[38;5;129;01mnot\u001b[39;00m (\u001b[38;5;28mself\u001b[39m\u001b[38;5;241m.\u001b[39m_backward_hooks \u001b[38;5;129;01mor\u001b[39;00m \u001b[38;5;28mself\u001b[39m\u001b[38;5;241m.\u001b[39m_backward_pre_hooks \u001b[38;5;129;01mor\u001b[39;00m \u001b[38;5;28mself\u001b[39m\u001b[38;5;241m.\u001b[39m_forward_hooks \u001b[38;5;129;01mor\u001b[39;00m \u001b[38;5;28mself\u001b[39m\u001b[38;5;241m.\u001b[39m_forward_pre_hooks\n\u001b[0;32m   1745\u001b[0m         \u001b[38;5;129;01mor\u001b[39;00m _global_backward_pre_hooks \u001b[38;5;129;01mor\u001b[39;00m _global_backward_hooks\n\u001b[0;32m   1746\u001b[0m         \u001b[38;5;129;01mor\u001b[39;00m _global_forward_hooks \u001b[38;5;129;01mor\u001b[39;00m _global_forward_pre_hooks):\n\u001b[1;32m-> 1747\u001b[0m     \u001b[38;5;28;01mreturn\u001b[39;00m forward_call(\u001b[38;5;241m*\u001b[39margs, \u001b[38;5;241m*\u001b[39m\u001b[38;5;241m*\u001b[39mkwargs)\n\u001b[0;32m   1749\u001b[0m result \u001b[38;5;241m=\u001b[39m \u001b[38;5;28;01mNone\u001b[39;00m\n\u001b[0;32m   1750\u001b[0m called_always_called_hooks \u001b[38;5;241m=\u001b[39m \u001b[38;5;28mset\u001b[39m()\n",
      "File \u001b[1;32m~\\anaconda3\\Lib\\site-packages\\torch\\nn\\modules\\dropout.py:70\u001b[0m, in \u001b[0;36mDropout.forward\u001b[1;34m(self, input)\u001b[0m\n\u001b[0;32m     69\u001b[0m \u001b[38;5;28;01mdef\u001b[39;00m \u001b[38;5;21mforward\u001b[39m(\u001b[38;5;28mself\u001b[39m, \u001b[38;5;28minput\u001b[39m: Tensor) \u001b[38;5;241m-\u001b[39m\u001b[38;5;241m>\u001b[39m Tensor:\n\u001b[1;32m---> 70\u001b[0m     \u001b[38;5;28;01mreturn\u001b[39;00m F\u001b[38;5;241m.\u001b[39mdropout(\u001b[38;5;28minput\u001b[39m, \u001b[38;5;28mself\u001b[39m\u001b[38;5;241m.\u001b[39mp, \u001b[38;5;28mself\u001b[39m\u001b[38;5;241m.\u001b[39mtraining, \u001b[38;5;28mself\u001b[39m\u001b[38;5;241m.\u001b[39minplace)\n",
      "File \u001b[1;32m~\\anaconda3\\Lib\\site-packages\\torch\\nn\\functional.py:1425\u001b[0m, in \u001b[0;36mdropout\u001b[1;34m(input, p, training, inplace)\u001b[0m\n\u001b[0;32m   1422\u001b[0m \u001b[38;5;28;01mif\u001b[39;00m p \u001b[38;5;241m<\u001b[39m \u001b[38;5;241m0.0\u001b[39m \u001b[38;5;129;01mor\u001b[39;00m p \u001b[38;5;241m>\u001b[39m \u001b[38;5;241m1.0\u001b[39m:\n\u001b[0;32m   1423\u001b[0m     \u001b[38;5;28;01mraise\u001b[39;00m \u001b[38;5;167;01mValueError\u001b[39;00m(\u001b[38;5;124mf\u001b[39m\u001b[38;5;124m\"\u001b[39m\u001b[38;5;124mdropout probability has to be between 0 and 1, but got \u001b[39m\u001b[38;5;132;01m{\u001b[39;00mp\u001b[38;5;132;01m}\u001b[39;00m\u001b[38;5;124m\"\u001b[39m)\n\u001b[0;32m   1424\u001b[0m \u001b[38;5;28;01mreturn\u001b[39;00m (\n\u001b[1;32m-> 1425\u001b[0m     _VF\u001b[38;5;241m.\u001b[39mdropout_(\u001b[38;5;28minput\u001b[39m, p, training) \u001b[38;5;28;01mif\u001b[39;00m inplace \u001b[38;5;28;01melse\u001b[39;00m _VF\u001b[38;5;241m.\u001b[39mdropout(\u001b[38;5;28minput\u001b[39m, p, training)\n\u001b[0;32m   1426\u001b[0m )\n",
      "\u001b[1;31mKeyboardInterrupt\u001b[0m: "
     ]
    }
   ],
   "source": [
    "uncert = []\n",
    "for x_t in test_x:\n",
    "    uncert.append(monte_carlo_predictions(model, x_t, 100))"
   ]
  },
  {
   "cell_type": "code",
   "execution_count": 19,
   "metadata": {},
   "outputs": [
    {
     "data": {
      "text/plain": [
       "torch.Size([1, 168, 8])"
      ]
     },
     "execution_count": 19,
     "metadata": {},
     "output_type": "execute_result"
    }
   ],
   "source": [
    "test_x[0].shape"
   ]
  },
  {
   "cell_type": "code",
   "execution_count": 21,
   "metadata": {},
   "outputs": [
    {
     "data": {
      "text/plain": [
       "tensor([[ 8.8918e+02,  6.4641e+00,  1.5547e+01,  1.0813e+01, -6.0888e-01,\n",
       "          2.5608e-01,  2.8174e-01, -4.7669e-01]], grad_fn=<AddmmBackward0>)"
      ]
     },
     "execution_count": 21,
     "metadata": {},
     "output_type": "execute_result"
    }
   ],
   "source": [
    "model(test_x[1])"
   ]
  },
  {
   "cell_type": "code",
   "execution_count": null,
   "metadata": {},
   "outputs": [],
   "source": []
  }
 ],
 "metadata": {
  "kernelspec": {
   "display_name": "Python 3 (ipykernel)",
   "language": "python",
   "name": "python3"
  },
  "language_info": {
   "codemirror_mode": {
    "name": "ipython",
    "version": 3
   },
   "file_extension": ".py",
   "mimetype": "text/x-python",
   "name": "python",
   "nbconvert_exporter": "python",
   "pygments_lexer": "ipython3",
   "version": "3.11.5"
  }
 },
 "nbformat": 4,
 "nbformat_minor": 2
}

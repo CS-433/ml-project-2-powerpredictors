{
 "cells": [
  {
   "cell_type": "code",
   "execution_count": 1,
   "id": "fcc13d91-09eb-4c00-bda4-e2b9778f4a41",
   "metadata": {},
   "outputs": [],
   "source": [
    "import pandas as pd\n",
    "import datetime \n",
    "import numpy as np\n",
    "import seaborn as sns\n",
    "import matplotlib.pyplot as plt\n",
    "import os \n",
    "from datetime import datetime\n",
    "import time"
   ]
  },
  {
   "cell_type": "code",
   "execution_count": 2,
   "id": "98e5c9b2-c6bd-4ba7-adb5-71f57a05213a",
   "metadata": {},
   "outputs": [],
   "source": [
    "# Save current directory\n",
    "current_directory = os.getcwd()\n",
    "\n",
    "# Set print options to suppress scientific notation and show 3 decimal places\n",
    "np.set_printoptions(suppress=True, precision=5)\n",
    "pd.options.display.float_format = '{:.5f}'.format\n",
    "\n",
    "# Suppress all warnings globally\n",
    "import warnings\n",
    "warnings.filterwarnings(\"ignore\")"
   ]
  },
  {
   "cell_type": "code",
   "execution_count": 3,
   "id": "1def887f-01d6-4695-a973-7f1e257e1903",
   "metadata": {},
   "outputs": [],
   "source": [
    "file_path = os.path.join(current_directory, 'data_augmented/means_test.csv')\n",
    "means_test = pd.read_csv(file_path)\n",
    "file_path = os.path.join(current_directory, 'data_augmented/stds_test.csv')\n",
    "stds_test = pd.read_csv(file_path)"
   ]
  },
  {
   "cell_type": "code",
   "execution_count": 4,
   "id": "5252f4d5-d312-4967-84ca-07ba8499b352",
   "metadata": {},
   "outputs": [],
   "source": [
    "mean_test = means_test['power_consumption']\n",
    "std_test = stds_test['power_consumption']"
   ]
  },
  {
   "cell_type": "markdown",
   "id": "e752ae8c-cf2a-41e3-9779-8c8c7c65b3b2",
   "metadata": {},
   "source": [
    "## Prediction accuracy"
   ]
  },
  {
   "cell_type": "code",
   "execution_count": 6,
   "id": "56d621ea-e53b-4e85-8510-a25eda641617",
   "metadata": {},
   "outputs": [],
   "source": [
    "file_path = os.path.join(current_directory, 'results/errors.csv')\n",
    "errors = pd.read_csv(file_path, index_col=0)"
   ]
  },
  {
   "cell_type": "markdown",
   "id": "969d60d3-553f-4526-9080-4bf289006086",
   "metadata": {},
   "source": [
    "#### Standardized"
   ]
  },
  {
   "cell_type": "code",
   "execution_count": 8,
   "id": "0e0934d1-f44f-42a7-a17d-30506634922c",
   "metadata": {},
   "outputs": [
    {
     "data": {
      "text/html": [
       "<div>\n",
       "<style scoped>\n",
       "    .dataframe tbody tr th:only-of-type {\n",
       "        vertical-align: middle;\n",
       "    }\n",
       "\n",
       "    .dataframe tbody tr th {\n",
       "        vertical-align: top;\n",
       "    }\n",
       "\n",
       "    .dataframe thead th {\n",
       "        text-align: right;\n",
       "    }\n",
       "</style>\n",
       "<table border=\"1\" class=\"dataframe\">\n",
       "  <thead>\n",
       "    <tr style=\"text-align: right;\">\n",
       "      <th></th>\n",
       "      <th>RMSE</th>\n",
       "      <th>MAE</th>\n",
       "      <th>ME</th>\n",
       "      <th>MAPE</th>\n",
       "    </tr>\n",
       "  </thead>\n",
       "  <tbody>\n",
       "    <tr>\n",
       "      <th>SARIMA</th>\n",
       "      <td>1.09877</td>\n",
       "      <td>0.89233</td>\n",
       "      <td>3.70551</td>\n",
       "      <td>4.69340</td>\n",
       "    </tr>\n",
       "    <tr>\n",
       "      <th>Persistence Forecast</th>\n",
       "      <td>0.91496</td>\n",
       "      <td>0.59467</td>\n",
       "      <td>3.52636</td>\n",
       "      <td>4.34736</td>\n",
       "    </tr>\n",
       "    <tr>\n",
       "      <th>LSTM</th>\n",
       "      <td>0.42351</td>\n",
       "      <td>0.31786</td>\n",
       "      <td>1.61356</td>\n",
       "      <td>1.44640</td>\n",
       "    </tr>\n",
       "    <tr>\n",
       "      <th>LSTM - include forecast</th>\n",
       "      <td>0.51766</td>\n",
       "      <td>0.38316</td>\n",
       "      <td>2.40546</td>\n",
       "      <td>1.54814</td>\n",
       "    </tr>\n",
       "    <tr>\n",
       "      <th>TCN</th>\n",
       "      <td>0.72545</td>\n",
       "      <td>0.52100</td>\n",
       "      <td>2.49642</td>\n",
       "      <td>1.43969</td>\n",
       "    </tr>\n",
       "  </tbody>\n",
       "</table>\n",
       "</div>"
      ],
      "text/plain": [
       "                           RMSE     MAE      ME    MAPE\n",
       "SARIMA                  1.09877 0.89233 3.70551 4.69340\n",
       "Persistence Forecast    0.91496 0.59467 3.52636 4.34736\n",
       "LSTM                    0.42351 0.31786 1.61356 1.44640\n",
       "LSTM - include forecast 0.51766 0.38316 2.40546 1.54814\n",
       "TCN                     0.72545 0.52100 2.49642 1.43969"
      ]
     },
     "execution_count": 8,
     "metadata": {},
     "output_type": "execute_result"
    }
   ],
   "source": [
    "errors"
   ]
  },
  {
   "cell_type": "markdown",
   "id": "cf996129-3eca-47b0-a1f0-04c87075ce4e",
   "metadata": {},
   "source": [
    "#### Original scale"
   ]
  },
  {
   "cell_type": "code",
   "execution_count": 10,
   "id": "ac4472eb-6901-4e5a-a470-4872587fdf8b",
   "metadata": {},
   "outputs": [
    {
     "data": {
      "text/html": [
       "<div>\n",
       "<style scoped>\n",
       "    .dataframe tbody tr th:only-of-type {\n",
       "        vertical-align: middle;\n",
       "    }\n",
       "\n",
       "    .dataframe tbody tr th {\n",
       "        vertical-align: top;\n",
       "    }\n",
       "\n",
       "    .dataframe thead th {\n",
       "        text-align: right;\n",
       "    }\n",
       "</style>\n",
       "<table border=\"1\" class=\"dataframe\">\n",
       "  <thead>\n",
       "    <tr style=\"text-align: right;\">\n",
       "      <th></th>\n",
       "      <th>RMSE</th>\n",
       "      <th>MAE</th>\n",
       "      <th>ME</th>\n",
       "      <th>MAPE</th>\n",
       "    </tr>\n",
       "  </thead>\n",
       "  <tbody>\n",
       "    <tr>\n",
       "      <th>SARIMA</th>\n",
       "      <td>8603.12183</td>\n",
       "      <td>8380.93202</td>\n",
       "      <td>11408.74699</td>\n",
       "      <td>12472.00514</td>\n",
       "    </tr>\n",
       "    <tr>\n",
       "      <th>Persistence Forecast</th>\n",
       "      <td>8405.28538</td>\n",
       "      <td>8060.56500</td>\n",
       "      <td>11215.92483</td>\n",
       "      <td>12099.56561</td>\n",
       "    </tr>\n",
       "    <tr>\n",
       "      <th>LSTM</th>\n",
       "      <td>7876.34644</td>\n",
       "      <td>7762.63580</td>\n",
       "      <td>9157.18964</td>\n",
       "      <td>8977.27746</td>\n",
       "    </tr>\n",
       "    <tr>\n",
       "      <th>LSTM - include forecast</th>\n",
       "      <td>7977.67916</td>\n",
       "      <td>7832.91376</td>\n",
       "      <td>10009.50302</td>\n",
       "      <td>9086.77125</td>\n",
       "    </tr>\n",
       "    <tr>\n",
       "      <th>TCN</th>\n",
       "      <td>8201.32078</td>\n",
       "      <td>7981.26918</td>\n",
       "      <td>10107.40244</td>\n",
       "      <td>8970.05071</td>\n",
       "    </tr>\n",
       "  </tbody>\n",
       "</table>\n",
       "</div>"
      ],
      "text/plain": [
       "                              RMSE        MAE          ME        MAPE\n",
       "SARIMA                  8603.12183 8380.93202 11408.74699 12472.00514\n",
       "Persistence Forecast    8405.28538 8060.56500 11215.92483 12099.56561\n",
       "LSTM                    7876.34644 7762.63580  9157.18964  8977.27746\n",
       "LSTM - include forecast 7977.67916 7832.91376 10009.50302  9086.77125\n",
       "TCN                     8201.32078 7981.26918 10107.40244  8970.05071"
      ]
     },
     "execution_count": 10,
     "metadata": {},
     "output_type": "execute_result"
    }
   ],
   "source": [
    "errors * std_test.item() + mean_test.item()"
   ]
  },
  {
   "cell_type": "markdown",
   "id": "c0292f6e-1e17-4500-a645-d7d50ffb66dd",
   "metadata": {},
   "source": [
    "#### Normalized "
   ]
  },
  {
   "cell_type": "code",
   "execution_count": 12,
   "id": "a28329d3-b68b-4b3b-8be6-31f2c306c6e6",
   "metadata": {},
   "outputs": [
    {
     "data": {
      "text/html": [
       "<div>\n",
       "<style scoped>\n",
       "    .dataframe tbody tr th:only-of-type {\n",
       "        vertical-align: middle;\n",
       "    }\n",
       "\n",
       "    .dataframe tbody tr th {\n",
       "        vertical-align: top;\n",
       "    }\n",
       "\n",
       "    .dataframe thead th {\n",
       "        text-align: right;\n",
       "    }\n",
       "</style>\n",
       "<table border=\"1\" class=\"dataframe\">\n",
       "  <thead>\n",
       "    <tr style=\"text-align: right;\">\n",
       "      <th></th>\n",
       "      <th>RMSE</th>\n",
       "      <th>MAE</th>\n",
       "      <th>ME</th>\n",
       "      <th>MAPE</th>\n",
       "    </tr>\n",
       "  </thead>\n",
       "  <tbody>\n",
       "    <tr>\n",
       "      <th>SARIMA</th>\n",
       "      <td>1.00000</td>\n",
       "      <td>1.00000</td>\n",
       "      <td>1.00000</td>\n",
       "      <td>1.00000</td>\n",
       "    </tr>\n",
       "    <tr>\n",
       "      <th>Persistence Forecast</th>\n",
       "      <td>0.83271</td>\n",
       "      <td>0.66643</td>\n",
       "      <td>0.95165</td>\n",
       "      <td>0.92627</td>\n",
       "    </tr>\n",
       "    <tr>\n",
       "      <th>LSTM</th>\n",
       "      <td>0.38544</td>\n",
       "      <td>0.35622</td>\n",
       "      <td>0.43545</td>\n",
       "      <td>0.30818</td>\n",
       "    </tr>\n",
       "    <tr>\n",
       "      <th>LSTM - include forecast</th>\n",
       "      <td>0.47113</td>\n",
       "      <td>0.42939</td>\n",
       "      <td>0.64916</td>\n",
       "      <td>0.32985</td>\n",
       "    </tr>\n",
       "    <tr>\n",
       "      <th>TCN</th>\n",
       "      <td>0.66024</td>\n",
       "      <td>0.58386</td>\n",
       "      <td>0.67370</td>\n",
       "      <td>0.30675</td>\n",
       "    </tr>\n",
       "  </tbody>\n",
       "</table>\n",
       "</div>"
      ],
      "text/plain": [
       "                           RMSE     MAE      ME    MAPE\n",
       "SARIMA                  1.00000 1.00000 1.00000 1.00000\n",
       "Persistence Forecast    0.83271 0.66643 0.95165 0.92627\n",
       "LSTM                    0.38544 0.35622 0.43545 0.30818\n",
       "LSTM - include forecast 0.47113 0.42939 0.64916 0.32985\n",
       "TCN                     0.66024 0.58386 0.67370 0.30675"
      ]
     },
     "execution_count": 12,
     "metadata": {},
     "output_type": "execute_result"
    }
   ],
   "source": [
    "errors / np.max(errors, axis = 0)"
   ]
  },
  {
   "cell_type": "markdown",
   "id": "904d3f6a-7ecc-4838-b90a-d0cc9799889e",
   "metadata": {},
   "source": [
    "## Prediction uncertainty"
   ]
  },
  {
   "cell_type": "code",
   "execution_count": 14,
   "id": "cbbe73ce-069b-46b7-8dd8-045903ff07d0",
   "metadata": {},
   "outputs": [
    {
     "data": {
      "text/html": [
       "<div>\n",
       "<style scoped>\n",
       "    .dataframe tbody tr th:only-of-type {\n",
       "        vertical-align: middle;\n",
       "    }\n",
       "\n",
       "    .dataframe tbody tr th {\n",
       "        vertical-align: top;\n",
       "    }\n",
       "\n",
       "    .dataframe thead th {\n",
       "        text-align: right;\n",
       "    }\n",
       "</style>\n",
       "<table border=\"1\" class=\"dataframe\">\n",
       "  <thead>\n",
       "    <tr style=\"text-align: right;\">\n",
       "      <th></th>\n",
       "      <th>PICP</th>\n",
       "      <th>PINAW</th>\n",
       "    </tr>\n",
       "  </thead>\n",
       "  <tbody>\n",
       "    <tr>\n",
       "      <th>LSTM</th>\n",
       "      <td>0.31380</td>\n",
       "      <td>0.05839</td>\n",
       "    </tr>\n",
       "    <tr>\n",
       "      <th>TCN</th>\n",
       "      <td>0.64974</td>\n",
       "      <td>0.22291</td>\n",
       "    </tr>\n",
       "  </tbody>\n",
       "</table>\n",
       "</div>"
      ],
      "text/plain": [
       "        PICP   PINAW\n",
       "LSTM 0.31380 0.05839\n",
       "TCN  0.64974 0.22291"
      ]
     },
     "execution_count": 14,
     "metadata": {},
     "output_type": "execute_result"
    }
   ],
   "source": [
    "file_path = os.path.join(current_directory, 'results/uncertainty_evaluation.csv')\n",
    "uncertainty_evaluation = pd.read_csv(file_path, index_col=0)\n",
    "uncertainty_evaluation"
   ]
  },
  {
   "cell_type": "markdown",
   "id": "e91f3413-6419-4e81-bf54-1a82918c869b",
   "metadata": {},
   "source": [
    "#### Normalized"
   ]
  },
  {
   "cell_type": "code",
   "execution_count": 16,
   "id": "68011e4e-9387-4192-b6c2-c36eb6f37968",
   "metadata": {},
   "outputs": [
    {
     "data": {
      "text/html": [
       "<div>\n",
       "<style scoped>\n",
       "    .dataframe tbody tr th:only-of-type {\n",
       "        vertical-align: middle;\n",
       "    }\n",
       "\n",
       "    .dataframe tbody tr th {\n",
       "        vertical-align: top;\n",
       "    }\n",
       "\n",
       "    .dataframe thead th {\n",
       "        text-align: right;\n",
       "    }\n",
       "</style>\n",
       "<table border=\"1\" class=\"dataframe\">\n",
       "  <thead>\n",
       "    <tr style=\"text-align: right;\">\n",
       "      <th></th>\n",
       "      <th>PICP</th>\n",
       "      <th>PINAW</th>\n",
       "    </tr>\n",
       "  </thead>\n",
       "  <tbody>\n",
       "    <tr>\n",
       "      <th>LSTM</th>\n",
       "      <td>0.48297</td>\n",
       "      <td>0.26192</td>\n",
       "    </tr>\n",
       "    <tr>\n",
       "      <th>TCN</th>\n",
       "      <td>1.00000</td>\n",
       "      <td>1.00000</td>\n",
       "    </tr>\n",
       "  </tbody>\n",
       "</table>\n",
       "</div>"
      ],
      "text/plain": [
       "        PICP   PINAW\n",
       "LSTM 0.48297 0.26192\n",
       "TCN  1.00000 1.00000"
      ]
     },
     "execution_count": 16,
     "metadata": {},
     "output_type": "execute_result"
    }
   ],
   "source": [
    "uncertainty_evaluation / np.max(uncertainty_evaluation, axis = 0)"
   ]
  },
  {
   "cell_type": "markdown",
   "id": "469317b7-9f1c-4c90-9e4b-80db19e44f61",
   "metadata": {},
   "source": [
    "## Cost of imbalance "
   ]
  },
  {
   "cell_type": "code",
   "execution_count": 18,
   "id": "c54fe7e3-5486-4bcd-9690-d1799f6d27bc",
   "metadata": {},
   "outputs": [
    {
     "data": {
      "text/plain": [
       "1642.1596437083085"
      ]
     },
     "execution_count": 18,
     "metadata": {},
     "output_type": "execute_result"
    }
   ],
   "source": [
    "file_path = os.path.join(current_directory, 'data_augmented/residuals.csv')\n",
    "residuals = pd.read_csv(file_path, index_col=0)  * std_test.item()\n",
    "\n",
    "imbalance_price = 0.2 #[euro/kWh]\n",
    "imbalance_cost_daily = np.mean(np.abs(residuals)) * imbalance_price * 24\n",
    "imbalance_cost_daily"
   ]
  },
  {
   "cell_type": "code",
   "execution_count": null,
   "id": "e1e5edd2-5e7f-418f-80f0-dbdfc2e38b4f",
   "metadata": {},
   "outputs": [],
   "source": []
  }
 ],
 "metadata": {
  "kernelspec": {
   "display_name": "Python 3 (ipykernel)",
   "language": "python",
   "name": "python3"
  },
  "language_info": {
   "codemirror_mode": {
    "name": "ipython",
    "version": 3
   },
   "file_extension": ".py",
   "mimetype": "text/x-python",
   "name": "python",
   "nbconvert_exporter": "python",
   "pygments_lexer": "ipython3",
   "version": "3.12.4"
  }
 },
 "nbformat": 4,
 "nbformat_minor": 5
}

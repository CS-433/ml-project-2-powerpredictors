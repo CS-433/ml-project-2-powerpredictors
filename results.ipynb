{
 "cells": [
  {
   "cell_type": "code",
   "execution_count": 1,
   "id": "fcc13d91-09eb-4c00-bda4-e2b9778f4a41",
   "metadata": {},
   "outputs": [],
   "source": [
    "import pandas as pd\n",
    "import datetime \n",
    "import numpy as np\n",
    "import seaborn as sns\n",
    "import matplotlib.pyplot as plt\n",
    "import os \n",
    "from datetime import datetime\n",
    "import time\n",
    "import matplotlib.image as mpimg"
   ]
  },
  {
   "cell_type": "code",
   "execution_count": 2,
   "id": "98e5c9b2-c6bd-4ba7-adb5-71f57a05213a",
   "metadata": {},
   "outputs": [],
   "source": [
    "# Save current directory\n",
    "current_directory = os.getcwd()\n",
    "\n",
    "# Set print options to suppress scientific notation and show 3 decimal places\n",
    "np.set_printoptions(suppress=True, precision=5)\n",
    "pd.options.display.float_format = '{:.5f}'.format\n",
    "\n",
    "# Suppress all warnings globally\n",
    "import warnings\n",
    "warnings.filterwarnings(\"ignore\")"
   ]
  },
  {
   "cell_type": "code",
   "execution_count": 3,
   "id": "1def887f-01d6-4695-a973-7f1e257e1903",
   "metadata": {},
   "outputs": [],
   "source": [
    "file_path = os.path.join(current_directory, 'data_expanded/means_test.csv')\n",
    "means_test = pd.read_csv(file_path)\n",
    "file_path = os.path.join(current_directory, 'data_expanded/stds_test.csv')\n",
    "stds_test = pd.read_csv(file_path)"
   ]
  },
  {
   "cell_type": "code",
   "execution_count": 4,
   "id": "5252f4d5-d312-4967-84ca-07ba8499b352",
   "metadata": {},
   "outputs": [],
   "source": [
    "mean_test = means_test['power_consumption']\n",
    "std_test = stds_test['power_consumption']"
   ]
  },
  {
   "cell_type": "markdown",
   "id": "e752ae8c-cf2a-41e3-9779-8c8c7c65b3b2",
   "metadata": {},
   "source": [
    "## Prediction accuracy\n",
    "\n",
    "### Metrics to Evaluate Prediction Accuracy\n",
    "\n",
    "The prediction accuracy is evaluated using 4 metrics to provide a comprehensive assessment of the model’s performance, balancing overall accuracy, robustness, and sensitivity to extreme deviations.\n",
    "\n",
    "1. **Root Mean Squared Error (RMSE)**  \n",
    "   $$\n",
    "   \\text{RMSE} = \\sqrt{\\frac{1}{n} \\sum_{i=1}^n (\\hat{y}_i - y_i)^2}\n",
    "   $$\n",
    "   - Measures the average magnitude of prediction errors, with a higher sensitivity to large deviations due to the squaring of errors.\n",
    "   - It effectively captures the overall performance of the model but is less robust in the presence of outliers.\n",
    "\n",
    "2. **Mean Absolute Error (MAE)**  \n",
    "   $$\n",
    "   \\text{MAE} = \\frac{1}{n} \\sum_{i=1}^n |\\hat{y}_i - y_i|\n",
    "   $$  \n",
    "   - Measures the average error magnitude by treating all errors equally.\n",
    "   - It is robust to extreme values.\n",
    "  \n",
    "3. **Maximum Error (ME)**  \n",
    "   $$\n",
    "   \\text{ME} = \\max(|\\hat{y}_i - y_i|)\n",
    "   $$  \n",
    "   - Highlights the largest deviation, captures the extreme behavior.\n",
    "\n",
    "  \n",
    "4. **Mean Absolute Percentage Error (MAPE)**  \n",
    "   $$\n",
    "   \\text{MAPE} = \\frac{100}{n} \\sum_{i=1}^n \\left| \\frac{\\hat{y}_i - y_i}{y_i} \\right|\n",
    "   $$  \n",
    "   - Expresses errors as a percentage, providing relative interpretability\n",
    "   - It is sensitive to small actual values."
   ]
  },
  {
   "cell_type": "markdown",
   "id": "da73c3cf-538e-4a1d-9032-602d1cb2bb7b",
   "metadata": {},
   "source": [
    "### Persistence Forecast Model"
   ]
  },
  {
   "cell_type": "code",
   "execution_count": 7,
   "id": "f2227c18-1c22-4e9c-8e0b-c9252f41dc47",
   "metadata": {},
   "outputs": [
    {
     "ename": "FileNotFoundError",
     "evalue": "[Errno 2] No such file or directory: '/Users/ginevralarroux/Documents/GitHub/ml-project-2-powerpredictors/results/persistence_forecast.png'",
     "output_type": "error",
     "traceback": [
      "\u001b[0;31m---------------------------------------------------------------------------\u001b[0m",
      "\u001b[0;31mFileNotFoundError\u001b[0m                         Traceback (most recent call last)",
      "Cell \u001b[0;32mIn[7], line 2\u001b[0m\n\u001b[1;32m      1\u001b[0m file_path \u001b[38;5;241m=\u001b[39m os\u001b[38;5;241m.\u001b[39mpath\u001b[38;5;241m.\u001b[39mjoin(current_directory, \u001b[38;5;124m'\u001b[39m\u001b[38;5;124mresults/persistence_forecast.png\u001b[39m\u001b[38;5;124m'\u001b[39m)\n\u001b[0;32m----> 2\u001b[0m img \u001b[38;5;241m=\u001b[39m mpimg\u001b[38;5;241m.\u001b[39mimread(file_path)\n\u001b[1;32m      3\u001b[0m plt\u001b[38;5;241m.\u001b[39mfigure(figsize\u001b[38;5;241m=\u001b[39m(\u001b[38;5;241m20\u001b[39m, \u001b[38;5;241m8\u001b[39m)) \n\u001b[1;32m      4\u001b[0m plt\u001b[38;5;241m.\u001b[39mimshow(img)\n",
      "File \u001b[0;32m/opt/anaconda3/lib/python3.12/site-packages/matplotlib/image.py:1525\u001b[0m, in \u001b[0;36mimread\u001b[0;34m(fname, format)\u001b[0m\n\u001b[1;32m   1518\u001b[0m \u001b[38;5;28;01mif\u001b[39;00m \u001b[38;5;28misinstance\u001b[39m(fname, \u001b[38;5;28mstr\u001b[39m) \u001b[38;5;129;01mand\u001b[39;00m \u001b[38;5;28mlen\u001b[39m(parse\u001b[38;5;241m.\u001b[39murlparse(fname)\u001b[38;5;241m.\u001b[39mscheme) \u001b[38;5;241m>\u001b[39m \u001b[38;5;241m1\u001b[39m:\n\u001b[1;32m   1519\u001b[0m     \u001b[38;5;66;03m# Pillow doesn't handle URLs directly.\u001b[39;00m\n\u001b[1;32m   1520\u001b[0m     \u001b[38;5;28;01mraise\u001b[39;00m \u001b[38;5;167;01mValueError\u001b[39;00m(\n\u001b[1;32m   1521\u001b[0m         \u001b[38;5;124m\"\u001b[39m\u001b[38;5;124mPlease open the URL for reading and pass the \u001b[39m\u001b[38;5;124m\"\u001b[39m\n\u001b[1;32m   1522\u001b[0m         \u001b[38;5;124m\"\u001b[39m\u001b[38;5;124mresult to Pillow, e.g. with \u001b[39m\u001b[38;5;124m\"\u001b[39m\n\u001b[1;32m   1523\u001b[0m         \u001b[38;5;124m\"\u001b[39m\u001b[38;5;124m``np.array(PIL.Image.open(urllib.request.urlopen(url)))``.\u001b[39m\u001b[38;5;124m\"\u001b[39m\n\u001b[1;32m   1524\u001b[0m         )\n\u001b[0;32m-> 1525\u001b[0m \u001b[38;5;28;01mwith\u001b[39;00m img_open(fname) \u001b[38;5;28;01mas\u001b[39;00m image:\n\u001b[1;32m   1526\u001b[0m     \u001b[38;5;28;01mreturn\u001b[39;00m (_pil_png_to_float_array(image)\n\u001b[1;32m   1527\u001b[0m             \u001b[38;5;28;01mif\u001b[39;00m \u001b[38;5;28misinstance\u001b[39m(image, PIL\u001b[38;5;241m.\u001b[39mPngImagePlugin\u001b[38;5;241m.\u001b[39mPngImageFile) \u001b[38;5;28;01melse\u001b[39;00m\n\u001b[1;32m   1528\u001b[0m             pil_to_array(image))\n",
      "File \u001b[0;32m/opt/anaconda3/lib/python3.12/site-packages/PIL/ImageFile.py:125\u001b[0m, in \u001b[0;36mImageFile.__init__\u001b[0;34m(self, fp, filename)\u001b[0m\n\u001b[1;32m    121\u001b[0m \u001b[38;5;28mself\u001b[39m\u001b[38;5;241m.\u001b[39mdecodermaxblock \u001b[38;5;241m=\u001b[39m MAXBLOCK\n\u001b[1;32m    123\u001b[0m \u001b[38;5;28;01mif\u001b[39;00m is_path(fp):\n\u001b[1;32m    124\u001b[0m     \u001b[38;5;66;03m# filename\u001b[39;00m\n\u001b[0;32m--> 125\u001b[0m     \u001b[38;5;28mself\u001b[39m\u001b[38;5;241m.\u001b[39mfp \u001b[38;5;241m=\u001b[39m \u001b[38;5;28mopen\u001b[39m(fp, \u001b[38;5;124m\"\u001b[39m\u001b[38;5;124mrb\u001b[39m\u001b[38;5;124m\"\u001b[39m)\n\u001b[1;32m    126\u001b[0m     \u001b[38;5;28mself\u001b[39m\u001b[38;5;241m.\u001b[39mfilename \u001b[38;5;241m=\u001b[39m fp\n\u001b[1;32m    127\u001b[0m     \u001b[38;5;28mself\u001b[39m\u001b[38;5;241m.\u001b[39m_exclusive_fp \u001b[38;5;241m=\u001b[39m \u001b[38;5;28;01mTrue\u001b[39;00m\n",
      "\u001b[0;31mFileNotFoundError\u001b[0m: [Errno 2] No such file or directory: '/Users/ginevralarroux/Documents/GitHub/ml-project-2-powerpredictors/results/persistence_forecast.png'"
     ]
    }
   ],
   "source": [
    "file_path = os.path.join(current_directory, 'results/persistence_forecast.png')\n",
    "img = mpimg.imread(file_path)\n",
    "plt.figure(figsize=(20, 8)) \n",
    "plt.imshow(img)\n",
    "plt.axis('off')  \n",
    "plt.show()"
   ]
  },
  {
   "cell_type": "markdown",
   "id": "f51dd2d4-5bff-4075-b346-429797a27a45",
   "metadata": {},
   "source": [
    "### SARIMA"
   ]
  },
  {
   "cell_type": "code",
   "execution_count": null,
   "id": "fcd6dddd-ed41-45da-b690-c13bb20413bb",
   "metadata": {},
   "outputs": [],
   "source": [
    "file_path = os.path.join(current_directory, 'results/sarima.png')\n",
    "img = mpimg.imread(file_path)\n",
    "plt.figure(figsize=(20, 8)) \n",
    "plt.imshow(img)\n",
    "plt.axis('off')  \n",
    "plt.show()"
   ]
  },
  {
   "cell_type": "markdown",
   "id": "1fe0a58b-3172-447b-8081-69947989da63",
   "metadata": {},
   "source": [
    "### LSTM"
   ]
  },
  {
   "cell_type": "code",
   "execution_count": null,
   "id": "e4036887-0686-4f4e-ae31-353f9e151c33",
   "metadata": {},
   "outputs": [],
   "source": [
    "file_path = os.path.join(current_directory, 'results/LSTM.png')\n",
    "img = mpimg.imread(file_path)\n",
    "plt.figure(figsize=(20, 8)) \n",
    "plt.imshow(img)\n",
    "plt.axis('off')  \n",
    "plt.show()"
   ]
  },
  {
   "cell_type": "markdown",
   "id": "fbb85867-8761-4694-a520-6e98630ce9de",
   "metadata": {},
   "source": [
    "### LSTM - include forecast"
   ]
  },
  {
   "cell_type": "code",
   "execution_count": null,
   "id": "b818af1d-7385-4dfb-81d8-af455c3bda76",
   "metadata": {},
   "outputs": [],
   "source": [
    "file_path = os.path.join(current_directory, 'results/LSTM_include_forecast.png')\n",
    "img = mpimg.imread(file_path)\n",
    "plt.figure(figsize=(20, 8)) \n",
    "plt.imshow(img)\n",
    "plt.axis('off')  \n",
    "plt.show()"
   ]
  },
  {
   "cell_type": "markdown",
   "id": "ec939a94-c50f-4e1c-ade2-5fd9ba251fe8",
   "metadata": {},
   "source": [
    "### LSTM - expanded dataset"
   ]
  },
  {
   "cell_type": "code",
   "execution_count": null,
   "id": "3a3b8bb8-be69-483d-a29f-11754e1c1119",
   "metadata": {},
   "outputs": [],
   "source": [
    "file_path = os.path.join(current_directory, 'results/LSTM_expanded.png')\n",
    "img = mpimg.imread(file_path)\n",
    "plt.figure(figsize=(20, 8)) \n",
    "plt.imshow(img)\n",
    "plt.axis('off')  \n",
    "plt.show()"
   ]
  },
  {
   "cell_type": "markdown",
   "id": "c92f2b34-4f0c-4a37-a7b6-ea61fc4869c6",
   "metadata": {},
   "source": [
    "### TCN"
   ]
  },
  {
   "cell_type": "code",
   "execution_count": null,
   "id": "afaf07ae-8d4b-429f-9a8f-a40b0ed2c855",
   "metadata": {},
   "outputs": [],
   "source": [
    "file_path = os.path.join(current_directory, 'results/TCN.png')\n",
    "img = mpimg.imread(file_path)\n",
    "plt.figure(figsize=(20, 8)) \n",
    "plt.imshow(img)\n",
    "plt.axis('off')  \n",
    "plt.show()"
   ]
  },
  {
   "cell_type": "code",
   "execution_count": null,
   "id": "56d621ea-e53b-4e85-8510-a25eda641617",
   "metadata": {},
   "outputs": [],
   "source": [
    "file_path = os.path.join(current_directory, 'results/errors.csv')\n",
    "errors = pd.read_csv(file_path, index_col=0)"
   ]
  },
  {
   "cell_type": "markdown",
   "id": "969d60d3-553f-4526-9080-4bf289006086",
   "metadata": {},
   "source": [
    "#### Prediction error - Standardized"
   ]
  },
  {
   "cell_type": "code",
   "execution_count": null,
   "id": "0e0934d1-f44f-42a7-a17d-30506634922c",
   "metadata": {},
   "outputs": [],
   "source": [
    "errors"
   ]
  },
  {
   "cell_type": "markdown",
   "id": "cf996129-3eca-47b0-a1f0-04c87075ce4e",
   "metadata": {},
   "source": [
    "#### Prediction error - Original scale"
   ]
  },
  {
   "cell_type": "code",
   "execution_count": null,
   "id": "ac4472eb-6901-4e5a-a470-4872587fdf8b",
   "metadata": {},
   "outputs": [],
   "source": [
    "errors * std_test.item() + mean_test.item()"
   ]
  },
  {
   "cell_type": "markdown",
   "id": "c0292f6e-1e17-4500-a645-d7d50ffb66dd",
   "metadata": {},
   "source": [
    "#### Prediction error - Normalized "
   ]
  },
  {
   "cell_type": "code",
   "execution_count": null,
   "id": "a28329d3-b68b-4b3b-8be6-31f2c306c6e6",
   "metadata": {},
   "outputs": [],
   "source": [
    "errors / np.max(errors, axis = 0)"
   ]
  },
  {
   "cell_type": "markdown",
   "id": "904d3f6a-7ecc-4838-b90a-d0cc9799889e",
   "metadata": {},
   "source": [
    "## Prediction uncertainty\n",
    "\n",
    "### Uncertainty of predictions\n",
    "\n",
    "The predictions uncertainty is quantified with the metrics PICP and PINAW. \n",
    "\n",
    "1. **Prediction Interval Coverage Probability (PICP)**:\n",
    "   - Measures the percentage of true values captured within the prediction intervals.\n",
    "   - It should align with the specified confidence level of the prediction intervals (e.g., 95\\%)\n",
    "   - Too low: Intervals miss actual values (underestimating uncertainty).\n",
    "   - Too high: Intervals are overly wide (too conservative).\n",
    "\n",
    "2. **Prediction Interval Normalized Average Width (PINAW)**:\n",
    "   - Quantifies the average width of prediction intervals relative to the range of true values.\n",
    "   - It should be minimized while ensuring the PICP aligns with the desired confidence level\n",
    "   - Too narrow: Risk of under-coverage.\n",
    "   - Too wide: Excessive conservatism, reducing usefulness.\n",
    "\n",
    "The goal is to balance **PICP** (coverage) and **PINAW** (sharpness) to create reliable and efficient prediction intervals."
   ]
  },
  {
   "cell_type": "markdown",
   "id": "b4c7bfd8-5e12-4150-af06-682af12b9a38",
   "metadata": {},
   "source": [
    "### LSTM - Monte Carlo Dropout"
   ]
  },
  {
   "cell_type": "code",
   "execution_count": null,
   "id": "f58acb34-20b1-494a-9a66-51f08a3d7cc2",
   "metadata": {},
   "outputs": [],
   "source": [
    "file_path = os.path.join(current_directory, 'results/LSTM_MCDropout.png')\n",
    "img = mpimg.imread(file_path)\n",
    "plt.figure(figsize=(20, 8)) \n",
    "plt.imshow(img)\n",
    "plt.axis('off')  \n",
    "plt.show()"
   ]
  },
  {
   "cell_type": "markdown",
   "id": "ca3ebdf3-9888-4789-a31f-0bb54994747b",
   "metadata": {},
   "source": [
    "### TCN - Monte Carlo Dropout"
   ]
  },
  {
   "cell_type": "code",
   "execution_count": null,
   "id": "141206a0-9300-47b5-bd65-e5eac6ea47a2",
   "metadata": {},
   "outputs": [],
   "source": [
    "file_path = os.path.join(current_directory, 'results/TCN_MCDropout.png')\n",
    "img = mpimg.imread(file_path)\n",
    "plt.figure(figsize=(20, 8)) \n",
    "plt.imshow(img)\n",
    "plt.axis('off')  \n",
    "plt.show()"
   ]
  },
  {
   "cell_type": "code",
   "execution_count": null,
   "id": "cbbe73ce-069b-46b7-8dd8-045903ff07d0",
   "metadata": {},
   "outputs": [],
   "source": [
    "file_path = os.path.join(current_directory, 'results/uncertainty_evaluation.csv')\n",
    "uncertainty_evaluation = pd.read_csv(file_path, index_col=0)\n",
    "uncertainty_evaluation"
   ]
  },
  {
   "cell_type": "markdown",
   "id": "e91f3413-6419-4e81-bf54-1a82918c869b",
   "metadata": {},
   "source": [
    "#### Normalized"
   ]
  },
  {
   "cell_type": "code",
   "execution_count": null,
   "id": "68011e4e-9387-4192-b6c2-c36eb6f37968",
   "metadata": {},
   "outputs": [],
   "source": [
    "uncertainty_evaluation / np.max(uncertainty_evaluation, axis = 0)"
   ]
  },
  {
   "cell_type": "markdown",
   "id": "74ef4765-fcc1-4930-b3b8-fee2e1285104",
   "metadata": {},
   "source": [
    "## Residuals analysis"
   ]
  },
  {
   "cell_type": "code",
   "execution_count": null,
   "id": "199098ec-d887-4cbd-ae4d-1cfe92d58ac1",
   "metadata": {},
   "outputs": [],
   "source": [
    "file_path = os.path.join(current_directory, 'results/residuals_plot_LSTM.png')\n",
    "img = mpimg.imread(file_path)\n",
    "plt.figure(figsize=(15, 5)) \n",
    "plt.imshow(img)\n",
    "plt.axis('off')  \n",
    "plt.show()"
   ]
  },
  {
   "cell_type": "code",
   "execution_count": null,
   "id": "49c0ea25-ae97-44ca-b8b5-d251e08d6244",
   "metadata": {},
   "outputs": [],
   "source": [
    "file_path = os.path.join(current_directory, 'results/residuals_plots_per_hour.png')\n",
    "img = mpimg.imread(file_path)\n",
    "plt.figure(figsize=(10, 60)) \n",
    "plt.imshow(img)\n",
    "plt.axis('off')  \n",
    "plt.show()"
   ]
  },
  {
   "cell_type": "code",
   "execution_count": null,
   "id": "22caf71b-876f-41ff-8e28-85fe9800989e",
   "metadata": {},
   "outputs": [],
   "source": [
    "file_path = os.path.join(current_directory, 'results/accuracy_per_hour.png')\n",
    "img = mpimg.imread(file_path)\n",
    "plt.figure(figsize=(10, 60)) \n",
    "plt.imshow(img)\n",
    "plt.axis('off')  \n",
    "plt.show()"
   ]
  },
  {
   "cell_type": "markdown",
   "id": "4cf083d9-3610-41d2-b578-e979bf815135",
   "metadata": {},
   "source": [
    "## Train vs Validation loss "
   ]
  },
  {
   "cell_type": "markdown",
   "id": "300bf7e1-0d7c-4d03-b104-117520fc560c",
   "metadata": {},
   "source": [
    "#### LSTM"
   ]
  },
  {
   "cell_type": "code",
   "execution_count": null,
   "id": "0e5090ac-6763-4fb8-ac25-b7995200fb7f",
   "metadata": {},
   "outputs": [],
   "source": [
    "file_path = os.path.join(current_directory, 'results/train_vs_validation_loss_LSTM.png')\n",
    "img = mpimg.imread(file_path)\n",
    "plt.figure(figsize=(10, 60)) \n",
    "plt.imshow(img)\n",
    "plt.axis('off')  \n",
    "plt.show()\n"
   ]
  },
  {
   "cell_type": "markdown",
   "id": "3686343c-8fcb-45e9-9e90-c742b2b8dc4c",
   "metadata": {},
   "source": [
    "#### TCN"
   ]
  },
  {
   "cell_type": "code",
   "execution_count": null,
   "id": "f65c7735-569b-4d1a-ba89-f04d35761a90",
   "metadata": {},
   "outputs": [],
   "source": [
    "file_path = os.path.join(current_directory, 'results/train_vs_validation_loss_TCN.png')\n",
    "img = mpimg.imread(file_path)\n",
    "plt.figure(figsize=(10, 60)) \n",
    "plt.imshow(img)\n",
    "plt.axis('off')  \n",
    "plt.show()"
   ]
  },
  {
   "cell_type": "markdown",
   "id": "469317b7-9f1c-4c90-9e4b-80db19e44f61",
   "metadata": {},
   "source": [
    "## Cost of imbalance "
   ]
  },
  {
   "cell_type": "code",
   "execution_count": null,
   "id": "c54fe7e3-5486-4bcd-9690-d1799f6d27bc",
   "metadata": {},
   "outputs": [],
   "source": [
    "file_path = os.path.join(current_directory, 'data_augmented/residuals.csv')\n",
    "residuals = pd.read_csv(file_path, index_col=0)  * std_test.item()\n",
    "\n",
    "imbalance_price = 0.2 #[euro/kWh]\n",
    "imbalance_cost_daily = np.mean(np.abs(residuals)) * imbalance_price * 24\n",
    "imbalance_cost_daily"
   ]
  },
  {
   "cell_type": "code",
   "execution_count": null,
   "id": "e1e5edd2-5e7f-418f-80f0-dbdfc2e38b4f",
   "metadata": {},
   "outputs": [],
   "source": []
  }
 ],
 "metadata": {
  "kernelspec": {
   "display_name": "Python 3 (ipykernel)",
   "language": "python",
   "name": "python3"
  },
  "language_info": {
   "codemirror_mode": {
    "name": "ipython",
    "version": 3
   },
   "file_extension": ".py",
   "mimetype": "text/x-python",
   "name": "python",
   "nbconvert_exporter": "python",
   "pygments_lexer": "ipython3",
   "version": "3.12.4"
  }
 },
 "nbformat": 4,
 "nbformat_minor": 5
}

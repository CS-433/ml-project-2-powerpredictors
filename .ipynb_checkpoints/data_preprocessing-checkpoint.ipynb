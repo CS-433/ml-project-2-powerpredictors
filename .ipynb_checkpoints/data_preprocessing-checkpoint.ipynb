{
 "cells": [
  {
   "cell_type": "code",
   "execution_count": 1,
   "id": "3e6406ae-5b1a-4aae-bc2d-2847bb41608b",
   "metadata": {},
   "outputs": [],
   "source": [
    "import pandas as pd\n",
    "import datetime \n",
    "import numpy as np\n",
    "import seaborn as sns\n",
    "import matplotlib.pyplot as plt\n",
    "import os \n",
    "from datetime import datetime\n",
    "import time"
   ]
  },
  {
   "cell_type": "code",
   "execution_count": 2,
   "id": "28f8f5c7-7818-4a06-aafe-bd41fb868f25",
   "metadata": {},
   "outputs": [],
   "source": [
    "from helpers import prepare_features"
   ]
  },
  {
   "cell_type": "code",
   "execution_count": 3,
   "id": "1f579c10-2b2f-4040-9883-f692d5146718",
   "metadata": {},
   "outputs": [],
   "source": [
    "# Save current directory\n",
    "current_directory = os.getcwd()\n",
    "\n",
    "# Set print options to suppress scientific notation and show 3 decimal places\n",
    "np.set_printoptions(suppress=True, precision=5)\n",
    "pd.options.display.float_format = '{:.5f}'.format\n",
    "\n",
    "# Suppress all warnings globally\n",
    "import warnings\n",
    "warnings.filterwarnings(\"ignore\")"
   ]
  },
  {
   "cell_type": "code",
   "execution_count": 4,
   "id": "86c870ca-6a01-484f-bf3a-e88478783d31",
   "metadata": {},
   "outputs": [],
   "source": [
    "file_path = os.path.join(current_directory, 'data_augmented/X.csv')\n",
    "X = pd.read_csv(file_path, index_col = 0)\n",
    "\n",
    "file_path = os.path.join(current_directory, 'data_augmented/timestamps.csv')\n",
    "timestamps = pd.read_csv(file_path, index_col = 0)"
   ]
  },
  {
   "cell_type": "code",
   "execution_count": 5,
   "id": "0700691a-e8e2-4c83-acb2-a1e9824d7915",
   "metadata": {},
   "outputs": [],
   "source": [
    "df = X "
   ]
  },
  {
   "cell_type": "code",
   "execution_count": 6,
   "id": "906ae42d-41e8-4150-aa1b-74659b98701e",
   "metadata": {},
   "outputs": [],
   "source": [
    "df['timestamp'] = timestamps\n",
    "df.set_index(\"timestamp\", inplace=True)\n",
    "\n",
    "df.index = pd.to_datetime(df.index)\n",
    "df = df.asfreq('H')  # 'H' for hourly frequency"
   ]
  },
  {
   "cell_type": "code",
   "execution_count": 8,
   "id": "958475a4-5498-4bda-bc84-bc3102f20f2a",
   "metadata": {},
   "outputs": [],
   "source": [
    "# Step 1: Train-Test Split\n",
    "train_test_split_ratio = 0.95\n",
    "train_size = int(len(df) * train_test_split_ratio)  # Determine initial train size based on x%\n",
    "initial_test_start = train_size  \n",
    "\n",
    "while df.index[initial_test_start].hour != 11: # Adjust test start to align with the next occurrence of 11 AM\n",
    "    initial_test_start += 1\n",
    "\n",
    "final_test_end = len(df) - 1\n",
    "while df.index[final_test_end].hour != 10: # Adjust test end to align with the last 10 AM in the dataset\n",
    "    final_test_end -= 1\n",
    "\n",
    "train = df.iloc[:initial_test_start]\n",
    "test = df.iloc[initial_test_start:final_test_end+1]  # Include the last index"
   ]
  },
  {
   "cell_type": "code",
   "execution_count": 9,
   "id": "1863e21f-503a-4eab-b11b-516f67c3f9da",
   "metadata": {},
   "outputs": [],
   "source": [
    "# Standardize data\n",
    "from sklearn.preprocessing import StandardScaler\n",
    "columns_to_scale = ['power_consumption', 'temp']\n",
    "\n",
    "# Train data\n",
    "scaler_train = StandardScaler()\n",
    "scaled_train = pd.DataFrame(\n",
    "    scaler_train.fit_transform(train[columns_to_scale]),\n",
    "    columns=columns_to_scale\n",
    ")\n",
    "\n",
    "means_train = pd.DataFrame(columns = columns_to_scale)\n",
    "means_train.loc[0] = scaler_train.mean_\n",
    "stds_train = pd.DataFrame(columns = columns_to_scale)\n",
    "stds_train.loc[0] = scaler_train.scale_\n",
    "\n",
    "train[columns_to_scale] = scaled_train.values\n",
    "\n",
    "# Test data\n",
    "scaler_test = StandardScaler()\n",
    "scaled_test = pd.DataFrame(\n",
    "    scaler_test.fit_transform(test[columns_to_scale]),\n",
    "    columns=columns_to_scale\n",
    ")\n",
    "\n",
    "means_test = pd.DataFrame(columns = columns_to_scale)\n",
    "means_test.loc[0] = scaler_test.mean_\n",
    "stds_test = pd.DataFrame(columns = columns_to_scale)\n",
    "stds_test.loc[0] = scaler_test.scale_\n",
    "\n",
    "test[columns_to_scale] = scaled_test.values"
   ]
  },
  {
   "cell_type": "code",
   "execution_count": 10,
   "id": "6fc91b42-30d0-4fea-b3d1-f78c7624d992",
   "metadata": {},
   "outputs": [],
   "source": [
    "# save train and test data\n",
    "file_path = os.path.join(current_directory, 'data_augmented/train.csv')\n",
    "train.to_csv(file_path)\n",
    "file_path = os.path.join(current_directory, 'data_augmented/test.csv')\n",
    "test.to_csv(file_path)\n",
    "file_path = os.path.join(current_directory, 'data_augmented/means_train.csv')\n",
    "means_train.to_csv(file_path)\n",
    "file_path = os.path.join(current_directory, 'data_augmented/means_test.csv')\n",
    "means_test.to_csv(file_path)\n",
    "file_path = os.path.join(current_directory, 'data_augmented/stds_train.csv')\n",
    "stds_train.to_csv(file_path)\n",
    "file_path = os.path.join(current_directory, 'data_augmented/stds_test.csv')\n",
    "stds_test.to_csv(file_path)"
   ]
  },
  {
   "cell_type": "code",
   "execution_count": 11,
   "id": "1a95c7a3-26a5-49b0-a291-61dcb4da48d8",
   "metadata": {},
   "outputs": [],
   "source": [
    "# Step 2: Prepare input data to NN\n",
    "include_forecast = False\n",
    "\n",
    "target_col = 'power_consumption'\n",
    "exog_cols = ['temp'] # [col for col in df.columns if col not in target_col]\n",
    "window_length = 168  # 7 days\n",
    "forecast_horizon = 24  # Next 24 hours\n",
    "\n",
    "X_train, y_train, timestamps_train = prepare_features(train, target_col, exog_cols, window_length, forecast_horizon, include_forecast)\n",
    "X_test, y_test, timestamps_test = prepare_features(test, target_col, exog_cols, window_length, forecast_horizon, include_forecast)"
   ]
  },
  {
   "cell_type": "code",
   "execution_count": 12,
   "id": "382dade4-82f5-4fcc-b29d-38a7af8c69fe",
   "metadata": {},
   "outputs": [],
   "source": [
    "# Save input data to NN\n",
    "file_path = os.path.join(current_directory, 'data_augmented/X_train.npy')\n",
    "np.save(file_path, X_train)\n",
    "file_path = os.path.join(current_directory, 'data_augmented/y_train.npy')\n",
    "np.save(file_path, y_train)\n",
    "file_path = os.path.join(current_directory, 'data_augmented/timestamps_train.csv')\n",
    "timestamps_train.to_series().to_csv(file_path, index=False) \n",
    "file_path = os.path.join(current_directory, 'data_augmented/X_test.npy')\n",
    "np.save(file_path, X_test)\n",
    "file_path = os.path.join(current_directory, 'data_augmented/y_test.npy')\n",
    "np.save(file_path, y_test)\n",
    "file_path = os.path.join(current_directory, 'data_augmented/timestamps_test.csv')\n",
    "timestamps_test.to_series().to_csv(file_path, index=False) "
   ]
  },
  {
   "cell_type": "code",
   "execution_count": 13,
   "id": "a0ebaa76-ffd2-4575-a82b-e00ca27c4ab0",
   "metadata": {},
   "outputs": [],
   "source": [
    "# Step 2: Prepare input data to NN\n",
    "include_forecast = True\n",
    "\n",
    "target_col = 'power_consumption'\n",
    "exog_cols = ['temp'] # [col for col in df.columns if col not in target_col]\n",
    "window_length = 168  # 7 days\n",
    "forecast_horizon = 24  # Next 24 hours\n",
    "\n",
    "X_train, y_train, timestamps_train = prepare_features(train, target_col, exog_cols, window_length, forecast_horizon, include_forecast)\n",
    "X_test, y_test, timestamps_test = prepare_features(test, target_col, exog_cols, window_length, forecast_horizon, include_forecast)"
   ]
  },
  {
   "cell_type": "code",
   "execution_count": 14,
   "id": "5872b312-35fa-465c-941d-bde783a0537e",
   "metadata": {},
   "outputs": [],
   "source": [
    "# Save input data to NN\n",
    "file_path = os.path.join(current_directory, 'data_augmented/X_train_include_forecast.npy')\n",
    "np.save(file_path, X_train)\n",
    "file_path = os.path.join(current_directory, 'data_augmented/X_test_include_forecast.npy')\n",
    "np.save(file_path, X_test)"
   ]
  },
  {
   "cell_type": "code",
   "execution_count": 15,
   "id": "f445c975-e7b3-4366-ad03-45125657d45c",
   "metadata": {},
   "outputs": [],
   "source": [
    "errors = pd.DataFrame(columns = ['RMSE', 'MAE', 'ME', 'MAPE'])\n",
    "file_path = os.path.join(current_directory, 'results/errors.csv')\n",
    "errors.to_csv(file_path)"
   ]
  },
  {
   "cell_type": "code",
   "execution_count": 16,
   "id": "db61df5e-e967-47eb-ab4d-c403b613008a",
   "metadata": {},
   "outputs": [],
   "source": [
    "uncertainty_evaluation = pd.DataFrame(columns = ['PICP', 'PINAW'])\n",
    "file_path = os.path.join(current_directory, 'results/uncertainty_evaluation.csv')\n",
    "uncertainty_evaluation.to_csv(file_path) "
   ]
  }
 ],
 "metadata": {
  "kernelspec": {
   "display_name": "Python 3 (ipykernel)",
   "language": "python",
   "name": "python3"
  },
  "language_info": {
   "codemirror_mode": {
    "name": "ipython",
    "version": 3
   },
   "file_extension": ".py",
   "mimetype": "text/x-python",
   "name": "python",
   "nbconvert_exporter": "python",
   "pygments_lexer": "ipython3",
   "version": "3.12.4"
  }
 },
 "nbformat": 4,
 "nbformat_minor": 5
}
